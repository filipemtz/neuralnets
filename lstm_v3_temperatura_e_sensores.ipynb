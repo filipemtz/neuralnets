{
  "cells": [
    {
      "cell_type": "markdown",
      "metadata": {
        "id": "view-in-github",
        "colab_type": "text"
      },
      "source": [
        "<a href=\"https://colab.research.google.com/github/filipemtz/neuralnets/blob/main/lstm_v3_temperatura_e_sensores.ipynb\" target=\"_parent\"><img src=\"https://colab.research.google.com/assets/colab-badge.svg\" alt=\"Open In Colab\"/></a>"
      ]
    },
    {
      "cell_type": "code",
      "execution_count": 46,
      "metadata": {
        "colab": {
          "base_uri": "https://localhost:8080/"
        },
        "id": "LabhtgRpUeEJ",
        "outputId": "ad45e0e8-9c9b-4a64-f0d3-fab5ac2ae281"
      },
      "outputs": [
        {
          "output_type": "stream",
          "name": "stdout",
          "text": [
            "numpy:1.19.5\n",
            "pandas:1.1.5\n",
            "sklearn:1.0.1\n",
            "joblib:1.1.0\n",
            "tensorflow:2.7.0\n"
          ]
        }
      ],
      "source": [
        "import pandas as pd\n",
        "import numpy as np\n",
        "import matplotlib.pyplot as plt\n",
        "import matplotlib.mlab as mlab\n",
        "import sklearn\n",
        "import warnings\n",
        "warnings.filterwarnings(action='ignore')\n",
        "import tensorflow as tf\n",
        "from tensorflow.keras.preprocessing import sequence\n",
        "from tensorflow.keras.models import Sequential\n",
        "from tensorflow.keras.layers import Dense, Embedding\n",
        "from tensorflow.keras.layers import LSTM\n",
        "from tensorflow.keras.callbacks import EarlyStopping, ModelCheckpoint, LearningRateScheduler\n",
        "from sklearn.metrics import r2_score, mean_absolute_error, mean_squared_error\n",
        "import joblib\n",
        "\n",
        "print(f\"numpy:{np.__version__}\")\n",
        "print(f\"pandas:{pd.__version__}\")\n",
        "print(f\"sklearn:{sklearn.__version__}\")\n",
        "print(f\"joblib:{joblib.__version__}\")\n",
        "print(f\"tensorflow:{tf.__version__}\")"
      ]
    },
    {
      "cell_type": "code",
      "execution_count": 47,
      "metadata": {
        "id": "SWXcN2xoUeEN"
      },
      "outputs": [],
      "source": [
        "from datetime import datetime\n",
        "custom_date_parser = lambda x: datetime.strptime(x, \"%Y-%m-%d %H:%M:%S\")\n",
        "\n",
        "df_bf_t_model = pd.read_csv('AMT_BF_T_Model_Train_Test_RS.csv',date_parser=custom_date_parser,parse_dates=[\"Data\"], index_col=\"Data\")\n",
        "df_bf_t_model.drop('Unnamed: 0', axis=1, inplace=True)"
      ]
    },
    {
      "cell_type": "code",
      "execution_count": 48,
      "metadata": {
        "id": "VY7kUnu2UeEO"
      },
      "outputs": [],
      "source": [
        "model_columns = ['Temperatura -  TE05B1_A','Temperatura -  TE12B1_A',\n",
        "'Temperatura -  TE20B1_A' ,'Temperatura -  TE27B1_A',\n",
        "'Temperatura -  TE35B1_A' ,'Temperatura -  TE42B1_A',\n",
        "'Temperatura -  TE50B1_A' ,'Temperatura -  TE57B1_A',\n",
        "'Temperatura -  TE49B1_B' ,'Temperatura -  TE41B1_B',\n",
        "'Temperatura -  TE34B1_B' ,'Temperatura -  TE26B1_B',\n",
        "'Temperatura -  TE11B1_B' ,'Temperatura -  TE04B1_B',\n",
        "'Temperatura -  TE56B1_B' ,'Temperatura -  TE02B2_A',\n",
        "'Temperatura -  TE08B2_A' ,'Temperatura -  TE14B2_A',\n",
        "'Temperatura -  TE20B2_A' ,'Temperatura -  TE26B2_A',\n",
        "'Temperatura -  TE32B2_A' ,'Temperatura -  TE38B2_A',\n",
        "'Temperatura -  TE44B2_A' ,'Temperatura -  TE05B2_B',\n",
        "'Temperatura -  TE23B2_B' ,'Temperatura -  TE41B2_B',\n",
        "'Temperatura -  TE35B2_B' ,'Temperatura -  TE47B2_B',\n",
        "'Carga Térmica na Ventaneira 1','Carga Térmica na Ventaneira 2','Carga Térmica na Ventaneira 3','Carga Térmica na Ventaneira 4',\n",
        "'Carga Térmica na Ventaneira 5','Carga Térmica na Ventaneira 6','Carga Térmica na Ventaneira 7','Carga Térmica na Ventaneira 8',\n",
        "'Carga Térmica na Ventaneira 9','Carga Térmica na Ventaneira 10','Carga Térmica na Ventaneira 11','Carga Térmica na Ventaneira 12',\n",
        "'Carga Térmica na Ventaneira 13','Carga Térmica na Ventaneira 14','Carga Térmica na Ventaneira 15','Carga Térmica na Ventaneira 16',\n",
        "'Carga Térmica na Ventaneira 17','Carga Térmica na Ventaneira 18','Carga Térmica na Ventaneira 19','Carga Térmica na Ventaneira 20',\n",
        "'Carga Térmica na Ventaneira 21','Carga Térmica na Ventaneira 22','Carga Térmica na Ventaneira 23','Carga Térmica na Ventaneira 24',\n",
        "'Carga Térmica na Ventaneira 25','Carga Térmica na Ventaneira 26','Carga Térmica na Ventaneira 27','Carga Térmica na Ventaneira 28',\n",
        "'Carga Térmica na Ventaneira 29','Carga Térmica na Ventaneira 30','Carga Térmica na Ventaneira 31','Carga Térmica na Ventaneira 32',\n",
        "'Carga Térmica na Ventaneira 33','Carga Térmica na Ventaneira 34','Carga Térmica na Ventaneira 35','Carga Térmica na Ventaneira 36',\n",
        "'Carga Térmica na Ventaneira 37','Carga Térmica na Ventaneira 38',\n",
        "'Volume de Sopro', 'Umidade do Ar de Sopro',\n",
        "'Temperatura do Ar de Sopro','PCI Rate Calculado',\n",
        "'Coque Rate_carga',\n",
        "'Taxa de O2', 'Pressão do AR de Sopro',\n",
        "'Pressão do Topo', 'Composição de H2 no Topo', \n",
        "'Índice de Permeabilidade 3', 'Taxa de Carvão O2', 'Vazão Gás Rampa', 'Relação CO/CO2',\n",
        "'Velocidade de Produção de Gusa', 'Coque Rate', \n",
        "'Redução Direta', 'Perda Térmica do Stave', \n",
        "'Umidade na Carga (Kg/tg)',\n",
        "'Escória Rate_carga','Relação M/C_carga', 'Umidade Coque_carga',\n",
        "'Primeira_T_FG','FGND', 'FG1' ,'FG2' ,'FG3','FG4',\n",
        "'CC1','CC2','CCND','TEMPERATURA']\n",
        "\n",
        "df_bf_t_model = df_bf_t_model[model_columns]"
      ]
    },
    {
      "cell_type": "code",
      "execution_count": 49,
      "metadata": {
        "id": "lnZrpwFhUeEP"
      },
      "outputs": [],
      "source": [
        "df_bf_t_model[\"TEMPERATURA_ANTERIOR\"] = df_bf_t_model['TEMPERATURA'].shift(1)\n",
        "\n",
        "#Movimentação da coluna temperatura para ela ser a última coluna do dataset\n",
        "df_bf_t_model.rename(columns={\"TEMPERATURA\": \"TEMPERATURA_TO_REMOVE\"},inplace=True)\n",
        "df_bf_t_model['TEMPERATURA'] = df_bf_t_model['TEMPERATURA_TO_REMOVE']\n",
        "df_bf_t_model.drop('TEMPERATURA_TO_REMOVE', axis=1, inplace=True)\n",
        "\n",
        "df_bf_t_model.dropna(inplace=True)"
      ]
    },
    {
      "cell_type": "code",
      "execution_count": 50,
      "metadata": {
        "colab": {
          "base_uri": "https://localhost:8080/",
          "height": 513
        },
        "id": "qqCc4_FFUeEQ",
        "outputId": "1b73a558-67eb-40f9-e871-b35b3456957a"
      },
      "outputs": [
        {
          "output_type": "execute_result",
          "data": {
            "text/html": [
              "<div>\n",
              "<style scoped>\n",
              "    .dataframe tbody tr th:only-of-type {\n",
              "        vertical-align: middle;\n",
              "    }\n",
              "\n",
              "    .dataframe tbody tr th {\n",
              "        vertical-align: top;\n",
              "    }\n",
              "\n",
              "    .dataframe thead th {\n",
              "        text-align: right;\n",
              "    }\n",
              "</style>\n",
              "<table border=\"1\" class=\"dataframe\">\n",
              "  <thead>\n",
              "    <tr style=\"text-align: right;\">\n",
              "      <th></th>\n",
              "      <th>Temperatura -  TE05B1_A</th>\n",
              "      <th>Temperatura -  TE12B1_A</th>\n",
              "      <th>Temperatura -  TE20B1_A</th>\n",
              "      <th>Temperatura -  TE27B1_A</th>\n",
              "      <th>Temperatura -  TE35B1_A</th>\n",
              "      <th>Temperatura -  TE42B1_A</th>\n",
              "      <th>Temperatura -  TE50B1_A</th>\n",
              "      <th>Temperatura -  TE57B1_A</th>\n",
              "      <th>Temperatura -  TE49B1_B</th>\n",
              "      <th>Temperatura -  TE41B1_B</th>\n",
              "      <th>Temperatura -  TE34B1_B</th>\n",
              "      <th>Temperatura -  TE26B1_B</th>\n",
              "      <th>Temperatura -  TE11B1_B</th>\n",
              "      <th>Temperatura -  TE04B1_B</th>\n",
              "      <th>Temperatura -  TE56B1_B</th>\n",
              "      <th>Temperatura -  TE02B2_A</th>\n",
              "      <th>Temperatura -  TE08B2_A</th>\n",
              "      <th>Temperatura -  TE14B2_A</th>\n",
              "      <th>Temperatura -  TE20B2_A</th>\n",
              "      <th>Temperatura -  TE26B2_A</th>\n",
              "      <th>Temperatura -  TE32B2_A</th>\n",
              "      <th>Temperatura -  TE38B2_A</th>\n",
              "      <th>Temperatura -  TE44B2_A</th>\n",
              "      <th>Temperatura -  TE05B2_B</th>\n",
              "      <th>Temperatura -  TE23B2_B</th>\n",
              "      <th>Temperatura -  TE41B2_B</th>\n",
              "      <th>Temperatura -  TE35B2_B</th>\n",
              "      <th>Temperatura -  TE47B2_B</th>\n",
              "      <th>Carga Térmica na Ventaneira 1</th>\n",
              "      <th>Carga Térmica na Ventaneira 2</th>\n",
              "      <th>Carga Térmica na Ventaneira 3</th>\n",
              "      <th>Carga Térmica na Ventaneira 4</th>\n",
              "      <th>Carga Térmica na Ventaneira 5</th>\n",
              "      <th>Carga Térmica na Ventaneira 6</th>\n",
              "      <th>Carga Térmica na Ventaneira 7</th>\n",
              "      <th>Carga Térmica na Ventaneira 8</th>\n",
              "      <th>Carga Térmica na Ventaneira 9</th>\n",
              "      <th>Carga Térmica na Ventaneira 10</th>\n",
              "      <th>Carga Térmica na Ventaneira 11</th>\n",
              "      <th>Carga Térmica na Ventaneira 12</th>\n",
              "      <th>...</th>\n",
              "      <th>Carga Térmica na Ventaneira 31</th>\n",
              "      <th>Carga Térmica na Ventaneira 32</th>\n",
              "      <th>Carga Térmica na Ventaneira 33</th>\n",
              "      <th>Carga Térmica na Ventaneira 34</th>\n",
              "      <th>Carga Térmica na Ventaneira 35</th>\n",
              "      <th>Carga Térmica na Ventaneira 36</th>\n",
              "      <th>Carga Térmica na Ventaneira 37</th>\n",
              "      <th>Carga Térmica na Ventaneira 38</th>\n",
              "      <th>Volume de Sopro</th>\n",
              "      <th>Umidade do Ar de Sopro</th>\n",
              "      <th>Temperatura do Ar de Sopro</th>\n",
              "      <th>PCI Rate Calculado</th>\n",
              "      <th>Coque Rate_carga</th>\n",
              "      <th>Taxa de O2</th>\n",
              "      <th>Pressão do AR de Sopro</th>\n",
              "      <th>Pressão do Topo</th>\n",
              "      <th>Composição de H2 no Topo</th>\n",
              "      <th>Índice de Permeabilidade 3</th>\n",
              "      <th>Taxa de Carvão O2</th>\n",
              "      <th>Vazão Gás Rampa</th>\n",
              "      <th>Relação CO/CO2</th>\n",
              "      <th>Velocidade de Produção de Gusa</th>\n",
              "      <th>Coque Rate</th>\n",
              "      <th>Redução Direta</th>\n",
              "      <th>Perda Térmica do Stave</th>\n",
              "      <th>Umidade na Carga (Kg/tg)</th>\n",
              "      <th>Escória Rate_carga</th>\n",
              "      <th>Relação M/C_carga</th>\n",
              "      <th>Umidade Coque_carga</th>\n",
              "      <th>Primeira_T_FG</th>\n",
              "      <th>FGND</th>\n",
              "      <th>FG1</th>\n",
              "      <th>FG2</th>\n",
              "      <th>FG3</th>\n",
              "      <th>FG4</th>\n",
              "      <th>CC1</th>\n",
              "      <th>CC2</th>\n",
              "      <th>CCND</th>\n",
              "      <th>TEMPERATURA_ANTERIOR</th>\n",
              "      <th>TEMPERATURA</th>\n",
              "    </tr>\n",
              "    <tr>\n",
              "      <th>Data</th>\n",
              "      <th></th>\n",
              "      <th></th>\n",
              "      <th></th>\n",
              "      <th></th>\n",
              "      <th></th>\n",
              "      <th></th>\n",
              "      <th></th>\n",
              "      <th></th>\n",
              "      <th></th>\n",
              "      <th></th>\n",
              "      <th></th>\n",
              "      <th></th>\n",
              "      <th></th>\n",
              "      <th></th>\n",
              "      <th></th>\n",
              "      <th></th>\n",
              "      <th></th>\n",
              "      <th></th>\n",
              "      <th></th>\n",
              "      <th></th>\n",
              "      <th></th>\n",
              "      <th></th>\n",
              "      <th></th>\n",
              "      <th></th>\n",
              "      <th></th>\n",
              "      <th></th>\n",
              "      <th></th>\n",
              "      <th></th>\n",
              "      <th></th>\n",
              "      <th></th>\n",
              "      <th></th>\n",
              "      <th></th>\n",
              "      <th></th>\n",
              "      <th></th>\n",
              "      <th></th>\n",
              "      <th></th>\n",
              "      <th></th>\n",
              "      <th></th>\n",
              "      <th></th>\n",
              "      <th></th>\n",
              "      <th></th>\n",
              "      <th></th>\n",
              "      <th></th>\n",
              "      <th></th>\n",
              "      <th></th>\n",
              "      <th></th>\n",
              "      <th></th>\n",
              "      <th></th>\n",
              "      <th></th>\n",
              "      <th></th>\n",
              "      <th></th>\n",
              "      <th></th>\n",
              "      <th></th>\n",
              "      <th></th>\n",
              "      <th></th>\n",
              "      <th></th>\n",
              "      <th></th>\n",
              "      <th></th>\n",
              "      <th></th>\n",
              "      <th></th>\n",
              "      <th></th>\n",
              "      <th></th>\n",
              "      <th></th>\n",
              "      <th></th>\n",
              "      <th></th>\n",
              "      <th></th>\n",
              "      <th></th>\n",
              "      <th></th>\n",
              "      <th></th>\n",
              "      <th></th>\n",
              "      <th></th>\n",
              "      <th></th>\n",
              "      <th></th>\n",
              "      <th></th>\n",
              "      <th></th>\n",
              "      <th></th>\n",
              "      <th></th>\n",
              "      <th></th>\n",
              "      <th></th>\n",
              "      <th></th>\n",
              "      <th></th>\n",
              "    </tr>\n",
              "  </thead>\n",
              "  <tbody>\n",
              "    <tr>\n",
              "      <th>2019-01-01 01:00:00</th>\n",
              "      <td>64.4</td>\n",
              "      <td>78.5</td>\n",
              "      <td>98.9</td>\n",
              "      <td>71.5</td>\n",
              "      <td>101.4</td>\n",
              "      <td>60.2</td>\n",
              "      <td>54.2</td>\n",
              "      <td>54.3</td>\n",
              "      <td>65.0</td>\n",
              "      <td>89.4</td>\n",
              "      <td>204.4</td>\n",
              "      <td>77.2</td>\n",
              "      <td>111.7</td>\n",
              "      <td>93.5</td>\n",
              "      <td>88.4</td>\n",
              "      <td>57.5</td>\n",
              "      <td>58.8</td>\n",
              "      <td>88.0</td>\n",
              "      <td>54.8</td>\n",
              "      <td>74.8</td>\n",
              "      <td>127.0</td>\n",
              "      <td>52.0</td>\n",
              "      <td>62.8</td>\n",
              "      <td>65.3</td>\n",
              "      <td>91.5</td>\n",
              "      <td>57.9</td>\n",
              "      <td>63.5</td>\n",
              "      <td>36.6</td>\n",
              "      <td>116.80</td>\n",
              "      <td>34.90</td>\n",
              "      <td>188.9</td>\n",
              "      <td>84.56</td>\n",
              "      <td>141.2</td>\n",
              "      <td>160.5</td>\n",
              "      <td>141.1</td>\n",
              "      <td>149.1</td>\n",
              "      <td>170.6</td>\n",
              "      <td>183.8</td>\n",
              "      <td>139.4</td>\n",
              "      <td>71.8</td>\n",
              "      <td>...</td>\n",
              "      <td>206.0</td>\n",
              "      <td>172.8</td>\n",
              "      <td>203.4</td>\n",
              "      <td>247.2</td>\n",
              "      <td>194.2</td>\n",
              "      <td>193.9</td>\n",
              "      <td>187.9</td>\n",
              "      <td>94.56</td>\n",
              "      <td>6256.0</td>\n",
              "      <td>21.20</td>\n",
              "      <td>1190.0</td>\n",
              "      <td>193.6</td>\n",
              "      <td>292.2</td>\n",
              "      <td>32640.0</td>\n",
              "      <td>3.92</td>\n",
              "      <td>2.48</td>\n",
              "      <td>4.48</td>\n",
              "      <td>0.230</td>\n",
              "      <td>746.5</td>\n",
              "      <td>9050.0</td>\n",
              "      <td>1.050</td>\n",
              "      <td>6.723</td>\n",
              "      <td>313.5</td>\n",
              "      <td>26.23</td>\n",
              "      <td>1286.0</td>\n",
              "      <td>26.03</td>\n",
              "      <td>242.4</td>\n",
              "      <td>5.355</td>\n",
              "      <td>0.950</td>\n",
              "      <td>0</td>\n",
              "      <td>0</td>\n",
              "      <td>0</td>\n",
              "      <td>0</td>\n",
              "      <td>1</td>\n",
              "      <td>0</td>\n",
              "      <td>0</td>\n",
              "      <td>1</td>\n",
              "      <td>0</td>\n",
              "      <td>1497.0</td>\n",
              "      <td>1502.0</td>\n",
              "    </tr>\n",
              "    <tr>\n",
              "      <th>2019-01-01 01:30:00</th>\n",
              "      <td>63.8</td>\n",
              "      <td>78.1</td>\n",
              "      <td>101.3</td>\n",
              "      <td>72.2</td>\n",
              "      <td>103.0</td>\n",
              "      <td>59.9</td>\n",
              "      <td>54.2</td>\n",
              "      <td>54.3</td>\n",
              "      <td>65.2</td>\n",
              "      <td>88.2</td>\n",
              "      <td>207.5</td>\n",
              "      <td>77.2</td>\n",
              "      <td>112.2</td>\n",
              "      <td>92.7</td>\n",
              "      <td>88.6</td>\n",
              "      <td>57.5</td>\n",
              "      <td>58.8</td>\n",
              "      <td>92.7</td>\n",
              "      <td>54.5</td>\n",
              "      <td>75.0</td>\n",
              "      <td>127.3</td>\n",
              "      <td>52.0</td>\n",
              "      <td>62.6</td>\n",
              "      <td>64.8</td>\n",
              "      <td>92.4</td>\n",
              "      <td>57.9</td>\n",
              "      <td>63.7</td>\n",
              "      <td>36.8</td>\n",
              "      <td>119.94</td>\n",
              "      <td>38.47</td>\n",
              "      <td>190.6</td>\n",
              "      <td>83.70</td>\n",
              "      <td>139.8</td>\n",
              "      <td>157.2</td>\n",
              "      <td>144.6</td>\n",
              "      <td>151.5</td>\n",
              "      <td>169.8</td>\n",
              "      <td>198.5</td>\n",
              "      <td>139.2</td>\n",
              "      <td>71.3</td>\n",
              "      <td>...</td>\n",
              "      <td>205.0</td>\n",
              "      <td>170.1</td>\n",
              "      <td>201.2</td>\n",
              "      <td>239.5</td>\n",
              "      <td>195.9</td>\n",
              "      <td>199.8</td>\n",
              "      <td>188.8</td>\n",
              "      <td>99.00</td>\n",
              "      <td>6264.0</td>\n",
              "      <td>21.12</td>\n",
              "      <td>1190.0</td>\n",
              "      <td>194.6</td>\n",
              "      <td>292.8</td>\n",
              "      <td>32930.0</td>\n",
              "      <td>3.93</td>\n",
              "      <td>2.48</td>\n",
              "      <td>4.52</td>\n",
              "      <td>0.232</td>\n",
              "      <td>754.0</td>\n",
              "      <td>9070.0</td>\n",
              "      <td>1.049</td>\n",
              "      <td>6.777</td>\n",
              "      <td>311.0</td>\n",
              "      <td>26.83</td>\n",
              "      <td>1279.0</td>\n",
              "      <td>26.00</td>\n",
              "      <td>242.6</td>\n",
              "      <td>5.350</td>\n",
              "      <td>0.970</td>\n",
              "      <td>0</td>\n",
              "      <td>0</td>\n",
              "      <td>0</td>\n",
              "      <td>0</td>\n",
              "      <td>1</td>\n",
              "      <td>0</td>\n",
              "      <td>0</td>\n",
              "      <td>1</td>\n",
              "      <td>0</td>\n",
              "      <td>1502.0</td>\n",
              "      <td>1502.0</td>\n",
              "    </tr>\n",
              "    <tr>\n",
              "      <th>2019-01-01 02:00:00</th>\n",
              "      <td>63.3</td>\n",
              "      <td>77.3</td>\n",
              "      <td>110.9</td>\n",
              "      <td>72.5</td>\n",
              "      <td>108.7</td>\n",
              "      <td>59.6</td>\n",
              "      <td>54.2</td>\n",
              "      <td>54.3</td>\n",
              "      <td>65.5</td>\n",
              "      <td>86.2</td>\n",
              "      <td>202.6</td>\n",
              "      <td>77.1</td>\n",
              "      <td>109.8</td>\n",
              "      <td>92.1</td>\n",
              "      <td>89.0</td>\n",
              "      <td>57.4</td>\n",
              "      <td>58.8</td>\n",
              "      <td>99.0</td>\n",
              "      <td>54.3</td>\n",
              "      <td>75.5</td>\n",
              "      <td>123.2</td>\n",
              "      <td>51.9</td>\n",
              "      <td>62.4</td>\n",
              "      <td>64.4</td>\n",
              "      <td>93.7</td>\n",
              "      <td>57.9</td>\n",
              "      <td>63.7</td>\n",
              "      <td>37.4</td>\n",
              "      <td>121.00</td>\n",
              "      <td>39.66</td>\n",
              "      <td>197.5</td>\n",
              "      <td>85.25</td>\n",
              "      <td>143.2</td>\n",
              "      <td>154.0</td>\n",
              "      <td>147.1</td>\n",
              "      <td>162.6</td>\n",
              "      <td>171.6</td>\n",
              "      <td>202.0</td>\n",
              "      <td>136.8</td>\n",
              "      <td>69.5</td>\n",
              "      <td>...</td>\n",
              "      <td>204.0</td>\n",
              "      <td>169.4</td>\n",
              "      <td>200.2</td>\n",
              "      <td>237.8</td>\n",
              "      <td>194.8</td>\n",
              "      <td>196.1</td>\n",
              "      <td>192.2</td>\n",
              "      <td>101.94</td>\n",
              "      <td>6256.0</td>\n",
              "      <td>21.00</td>\n",
              "      <td>1190.0</td>\n",
              "      <td>199.0</td>\n",
              "      <td>292.2</td>\n",
              "      <td>33060.0</td>\n",
              "      <td>3.93</td>\n",
              "      <td>2.48</td>\n",
              "      <td>4.52</td>\n",
              "      <td>0.231</td>\n",
              "      <td>762.0</td>\n",
              "      <td>9070.0</td>\n",
              "      <td>1.045</td>\n",
              "      <td>6.700</td>\n",
              "      <td>308.5</td>\n",
              "      <td>26.34</td>\n",
              "      <td>1282.0</td>\n",
              "      <td>25.97</td>\n",
              "      <td>242.8</td>\n",
              "      <td>5.360</td>\n",
              "      <td>0.830</td>\n",
              "      <td>0</td>\n",
              "      <td>0</td>\n",
              "      <td>0</td>\n",
              "      <td>0</td>\n",
              "      <td>1</td>\n",
              "      <td>0</td>\n",
              "      <td>0</td>\n",
              "      <td>1</td>\n",
              "      <td>0</td>\n",
              "      <td>1502.0</td>\n",
              "      <td>1504.0</td>\n",
              "    </tr>\n",
              "    <tr>\n",
              "      <th>2019-01-01 02:30:00</th>\n",
              "      <td>62.8</td>\n",
              "      <td>76.0</td>\n",
              "      <td>125.3</td>\n",
              "      <td>72.6</td>\n",
              "      <td>111.5</td>\n",
              "      <td>59.4</td>\n",
              "      <td>54.3</td>\n",
              "      <td>54.4</td>\n",
              "      <td>66.0</td>\n",
              "      <td>85.6</td>\n",
              "      <td>200.8</td>\n",
              "      <td>76.5</td>\n",
              "      <td>106.2</td>\n",
              "      <td>91.5</td>\n",
              "      <td>89.6</td>\n",
              "      <td>57.4</td>\n",
              "      <td>58.8</td>\n",
              "      <td>99.8</td>\n",
              "      <td>54.2</td>\n",
              "      <td>76.4</td>\n",
              "      <td>112.3</td>\n",
              "      <td>51.8</td>\n",
              "      <td>62.4</td>\n",
              "      <td>64.0</td>\n",
              "      <td>93.6</td>\n",
              "      <td>57.8</td>\n",
              "      <td>63.6</td>\n",
              "      <td>37.3</td>\n",
              "      <td>135.00</td>\n",
              "      <td>50.25</td>\n",
              "      <td>213.5</td>\n",
              "      <td>86.44</td>\n",
              "      <td>144.2</td>\n",
              "      <td>155.4</td>\n",
              "      <td>149.2</td>\n",
              "      <td>153.6</td>\n",
              "      <td>167.4</td>\n",
              "      <td>190.5</td>\n",
              "      <td>137.6</td>\n",
              "      <td>70.6</td>\n",
              "      <td>...</td>\n",
              "      <td>201.9</td>\n",
              "      <td>171.1</td>\n",
              "      <td>198.0</td>\n",
              "      <td>238.0</td>\n",
              "      <td>192.6</td>\n",
              "      <td>201.1</td>\n",
              "      <td>191.0</td>\n",
              "      <td>94.70</td>\n",
              "      <td>6256.0</td>\n",
              "      <td>20.98</td>\n",
              "      <td>1196.0</td>\n",
              "      <td>191.9</td>\n",
              "      <td>291.5</td>\n",
              "      <td>33100.0</td>\n",
              "      <td>3.95</td>\n",
              "      <td>2.48</td>\n",
              "      <td>4.61</td>\n",
              "      <td>0.235</td>\n",
              "      <td>763.5</td>\n",
              "      <td>9070.0</td>\n",
              "      <td>1.045</td>\n",
              "      <td>6.965</td>\n",
              "      <td>308.0</td>\n",
              "      <td>28.08</td>\n",
              "      <td>1276.0</td>\n",
              "      <td>25.97</td>\n",
              "      <td>243.4</td>\n",
              "      <td>5.370</td>\n",
              "      <td>0.840</td>\n",
              "      <td>0</td>\n",
              "      <td>0</td>\n",
              "      <td>0</td>\n",
              "      <td>0</td>\n",
              "      <td>1</td>\n",
              "      <td>0</td>\n",
              "      <td>0</td>\n",
              "      <td>1</td>\n",
              "      <td>0</td>\n",
              "      <td>1504.0</td>\n",
              "      <td>1502.0</td>\n",
              "    </tr>\n",
              "    <tr>\n",
              "      <th>2019-01-01 03:00:00</th>\n",
              "      <td>62.4</td>\n",
              "      <td>74.7</td>\n",
              "      <td>132.8</td>\n",
              "      <td>72.3</td>\n",
              "      <td>119.7</td>\n",
              "      <td>59.3</td>\n",
              "      <td>54.3</td>\n",
              "      <td>54.3</td>\n",
              "      <td>66.1</td>\n",
              "      <td>85.2</td>\n",
              "      <td>221.1</td>\n",
              "      <td>75.2</td>\n",
              "      <td>104.1</td>\n",
              "      <td>91.0</td>\n",
              "      <td>89.9</td>\n",
              "      <td>57.4</td>\n",
              "      <td>58.8</td>\n",
              "      <td>95.8</td>\n",
              "      <td>54.1</td>\n",
              "      <td>77.1</td>\n",
              "      <td>101.2</td>\n",
              "      <td>51.8</td>\n",
              "      <td>62.4</td>\n",
              "      <td>63.6</td>\n",
              "      <td>93.1</td>\n",
              "      <td>57.7</td>\n",
              "      <td>63.4</td>\n",
              "      <td>37.3</td>\n",
              "      <td>126.20</td>\n",
              "      <td>44.75</td>\n",
              "      <td>197.0</td>\n",
              "      <td>87.30</td>\n",
              "      <td>146.2</td>\n",
              "      <td>152.2</td>\n",
              "      <td>152.2</td>\n",
              "      <td>149.5</td>\n",
              "      <td>163.1</td>\n",
              "      <td>186.2</td>\n",
              "      <td>137.1</td>\n",
              "      <td>79.6</td>\n",
              "      <td>...</td>\n",
              "      <td>205.8</td>\n",
              "      <td>168.6</td>\n",
              "      <td>201.8</td>\n",
              "      <td>241.8</td>\n",
              "      <td>195.2</td>\n",
              "      <td>204.6</td>\n",
              "      <td>195.0</td>\n",
              "      <td>94.30</td>\n",
              "      <td>6260.0</td>\n",
              "      <td>20.92</td>\n",
              "      <td>1200.0</td>\n",
              "      <td>195.4</td>\n",
              "      <td>293.2</td>\n",
              "      <td>33500.0</td>\n",
              "      <td>3.95</td>\n",
              "      <td>2.48</td>\n",
              "      <td>4.69</td>\n",
              "      <td>0.236</td>\n",
              "      <td>778.5</td>\n",
              "      <td>9096.0</td>\n",
              "      <td>1.053</td>\n",
              "      <td>6.996</td>\n",
              "      <td>305.0</td>\n",
              "      <td>28.23</td>\n",
              "      <td>1277.0</td>\n",
              "      <td>25.95</td>\n",
              "      <td>243.2</td>\n",
              "      <td>5.340</td>\n",
              "      <td>0.785</td>\n",
              "      <td>0</td>\n",
              "      <td>0</td>\n",
              "      <td>0</td>\n",
              "      <td>0</td>\n",
              "      <td>1</td>\n",
              "      <td>0</td>\n",
              "      <td>0</td>\n",
              "      <td>1</td>\n",
              "      <td>0</td>\n",
              "      <td>1502.0</td>\n",
              "      <td>1508.0</td>\n",
              "    </tr>\n",
              "  </tbody>\n",
              "</table>\n",
              "<p>5 rows × 98 columns</p>\n",
              "</div>"
            ],
            "text/plain": [
              "                     Temperatura -  TE05B1_A  ...  TEMPERATURA\n",
              "Data                                          ...             \n",
              "2019-01-01 01:00:00                     64.4  ...       1502.0\n",
              "2019-01-01 01:30:00                     63.8  ...       1502.0\n",
              "2019-01-01 02:00:00                     63.3  ...       1504.0\n",
              "2019-01-01 02:30:00                     62.8  ...       1502.0\n",
              "2019-01-01 03:00:00                     62.4  ...       1508.0\n",
              "\n",
              "[5 rows x 98 columns]"
            ]
          },
          "metadata": {},
          "execution_count": 50
        }
      ],
      "source": [
        "df_bf_t_model.head()"
      ]
    },
    {
      "cell_type": "code",
      "execution_count": 51,
      "metadata": {
        "colab": {
          "base_uri": "https://localhost:8080/"
        },
        "id": "InLR8g9xUeER",
        "outputId": "0c2086ef-61a5-4f70-add2-a11148121af1"
      },
      "outputs": [
        {
          "output_type": "execute_result",
          "data": {
            "text/plain": [
              "(33455, 98)"
            ]
          },
          "metadata": {},
          "execution_count": 51
        }
      ],
      "source": [
        "df_bf_t_model.shape"
      ]
    },
    {
      "cell_type": "markdown",
      "metadata": {
        "id": "9yIbUzbSUeER"
      },
      "source": [
        "# Separa dataset em treino/validação"
      ]
    },
    {
      "cell_type": "code",
      "execution_count": 52,
      "metadata": {
        "id": "Vqya7xEBUeET"
      },
      "outputs": [],
      "source": [
        "#df_treino = df_bf_t_model.head(df_bf_t_model.shape[1]-2114)\n",
        "\n",
        "#df_validacao = df_bf_t_model.tail(2016)\n",
        "\n",
        "df_treino = df_bf_t_model['2019-01-01 00:00:00':'2020-10-08 02:00:00'] #df_bf_t_model.head(df_bf_t_model.shape[1]-2017)\n",
        "\n",
        "df_teste_treino = df_bf_t_model['2020-10-08 02:30:00':'2020-11-20 01:30:00'] #df_bf_t_model.head(df_bf_t_model.shape[1]-2017)\n",
        "\n",
        "df_validacao = df_bf_t_model['2020-11-20 02:00:00':] #df_bf_t_model.tail(2016)"
      ]
    },
    {
      "cell_type": "code",
      "execution_count": 53,
      "metadata": {
        "colab": {
          "base_uri": "https://localhost:8080/"
        },
        "id": "FoysQOOpUeEU",
        "outputId": "3e9cda5c-d237-408a-d65e-6d8203cacbbf"
      },
      "outputs": [
        {
          "output_type": "stream",
          "name": "stdout",
          "text": [
            "df_treino.shape=(29455, 98)\n",
            "df_teste_treino.shape=(2000, 98)\n",
            "df_validacao.shape=(2000, 98)\n",
            "df_treino.index.min=2019-01-01 01:00:00\n",
            "df_treino.index.max=2020-10-08 02:00:00\n",
            "df_teste_treino.index.min=2020-10-08 02:30:00\n",
            "df_teste_treino.index.max=2020-11-20 01:30:00\n",
            "df_validacao.index.min=2020-11-20 02:00:00\n",
            "df_validacao.index.max=2020-12-31 23:00:00\n"
          ]
        }
      ],
      "source": [
        "print(f'df_treino.shape={df_treino.shape}')\n",
        "print(f'df_teste_treino.shape={df_teste_treino.shape}')\n",
        "print(f'df_validacao.shape={df_validacao.shape}')\n",
        "\n",
        "print(f'df_treino.index.min={df_treino.index.min()}')\n",
        "print(f'df_treino.index.max={df_treino.index.max()}')\n",
        "print(f'df_teste_treino.index.min={df_teste_treino.index.min()}')\n",
        "print(f'df_teste_treino.index.max={df_teste_treino.index.max()}')\n",
        "print(f'df_validacao.index.min={df_validacao.index.min()}')\n",
        "print(f'df_validacao.index.max={df_validacao.index.max()}')"
      ]
    },
    {
      "cell_type": "markdown",
      "metadata": {
        "id": "eiGmmSgKUeEU"
      },
      "source": [
        "# Separa dataset em x e y"
      ]
    },
    {
      "cell_type": "code",
      "execution_count": 54,
      "metadata": {
        "id": "A6SNrHeHUeEV"
      },
      "outputs": [],
      "source": [
        "df_treino_x = df_treino.drop('TEMPERATURA', axis=1).to_numpy()\n",
        "df_treino_y = df_treino['TEMPERATURA'].to_numpy()\n",
        "\n",
        "df_teste_treino_x = df_teste_treino.drop('TEMPERATURA', axis=1).to_numpy()\n",
        "df_teste_treino_y = df_teste_treino['TEMPERATURA'].to_numpy()\n",
        "\n",
        "df_validacao_x = df_validacao.drop('TEMPERATURA', axis=1).to_numpy()\n",
        "df_validacao_y = df_validacao['TEMPERATURA'].to_numpy()"
      ]
    },
    {
      "cell_type": "code",
      "execution_count": 55,
      "metadata": {
        "colab": {
          "base_uri": "https://localhost:8080/"
        },
        "id": "RyMmQH47UeEV",
        "outputId": "bfb9d618-5ac8-4ff7-c1c6-33e0c26235bb"
      },
      "outputs": [
        {
          "output_type": "stream",
          "name": "stdout",
          "text": [
            "df_treino_x.shape=(29455, 97)\n",
            "df_treino_y.shape=(29455,)\n",
            "df_teste_treino_x.shape=(2000, 97)\n",
            "df_teste_treino_y.shape=(2000,)\n",
            "df_validacao_x.shape=(2000, 97)\n",
            "df_validacao_y.shape=(2000,)\n"
          ]
        }
      ],
      "source": [
        "print(f'df_treino_x.shape={df_treino_x.shape}')\n",
        "print(f'df_treino_y.shape={df_treino_y.shape}')\n",
        "print(f'df_teste_treino_x.shape={df_teste_treino_x.shape}')\n",
        "print(f'df_teste_treino_y.shape={df_teste_treino_y.shape}')\n",
        "print(f'df_validacao_x.shape={df_validacao_x.shape}')\n",
        "print(f'df_validacao_y.shape={df_validacao_y.shape}')"
      ]
    },
    {
      "cell_type": "code",
      "execution_count": 56,
      "metadata": {
        "colab": {
          "base_uri": "https://localhost:8080/",
          "height": 874
        },
        "id": "sO-o51SQUeEW",
        "outputId": "a0bafb7f-25cc-4421-986e-70537ef51d08"
      },
      "outputs": [
        {
          "output_type": "execute_result",
          "data": {
            "text/html": [
              "<div>\n",
              "<style scoped>\n",
              "    .dataframe tbody tr th:only-of-type {\n",
              "        vertical-align: middle;\n",
              "    }\n",
              "\n",
              "    .dataframe tbody tr th {\n",
              "        vertical-align: top;\n",
              "    }\n",
              "\n",
              "    .dataframe thead th {\n",
              "        text-align: right;\n",
              "    }\n",
              "</style>\n",
              "<table border=\"1\" class=\"dataframe\">\n",
              "  <thead>\n",
              "    <tr style=\"text-align: right;\">\n",
              "      <th></th>\n",
              "      <th>Temperatura -  TE05B1_A</th>\n",
              "      <th>Temperatura -  TE12B1_A</th>\n",
              "      <th>Temperatura -  TE20B1_A</th>\n",
              "      <th>Temperatura -  TE27B1_A</th>\n",
              "      <th>Temperatura -  TE35B1_A</th>\n",
              "      <th>Temperatura -  TE42B1_A</th>\n",
              "      <th>Temperatura -  TE50B1_A</th>\n",
              "      <th>Temperatura -  TE57B1_A</th>\n",
              "      <th>Temperatura -  TE49B1_B</th>\n",
              "      <th>Temperatura -  TE41B1_B</th>\n",
              "      <th>Temperatura -  TE34B1_B</th>\n",
              "      <th>Temperatura -  TE26B1_B</th>\n",
              "      <th>Temperatura -  TE11B1_B</th>\n",
              "      <th>Temperatura -  TE04B1_B</th>\n",
              "      <th>Temperatura -  TE56B1_B</th>\n",
              "      <th>Temperatura -  TE02B2_A</th>\n",
              "      <th>Temperatura -  TE08B2_A</th>\n",
              "      <th>Temperatura -  TE14B2_A</th>\n",
              "      <th>Temperatura -  TE20B2_A</th>\n",
              "      <th>Temperatura -  TE26B2_A</th>\n",
              "      <th>Temperatura -  TE32B2_A</th>\n",
              "      <th>Temperatura -  TE38B2_A</th>\n",
              "      <th>Temperatura -  TE44B2_A</th>\n",
              "      <th>Temperatura -  TE05B2_B</th>\n",
              "      <th>Temperatura -  TE23B2_B</th>\n",
              "      <th>Temperatura -  TE41B2_B</th>\n",
              "      <th>Temperatura -  TE35B2_B</th>\n",
              "      <th>Temperatura -  TE47B2_B</th>\n",
              "      <th>Carga Térmica na Ventaneira 1</th>\n",
              "      <th>Carga Térmica na Ventaneira 2</th>\n",
              "      <th>Carga Térmica na Ventaneira 3</th>\n",
              "      <th>Carga Térmica na Ventaneira 4</th>\n",
              "      <th>Carga Térmica na Ventaneira 5</th>\n",
              "      <th>Carga Térmica na Ventaneira 6</th>\n",
              "      <th>Carga Térmica na Ventaneira 7</th>\n",
              "      <th>Carga Térmica na Ventaneira 8</th>\n",
              "      <th>Carga Térmica na Ventaneira 9</th>\n",
              "      <th>Carga Térmica na Ventaneira 10</th>\n",
              "      <th>Carga Térmica na Ventaneira 11</th>\n",
              "      <th>Carga Térmica na Ventaneira 12</th>\n",
              "      <th>...</th>\n",
              "      <th>Carga Térmica na Ventaneira 30</th>\n",
              "      <th>Carga Térmica na Ventaneira 31</th>\n",
              "      <th>Carga Térmica na Ventaneira 32</th>\n",
              "      <th>Carga Térmica na Ventaneira 33</th>\n",
              "      <th>Carga Térmica na Ventaneira 34</th>\n",
              "      <th>Carga Térmica na Ventaneira 35</th>\n",
              "      <th>Carga Térmica na Ventaneira 36</th>\n",
              "      <th>Carga Térmica na Ventaneira 37</th>\n",
              "      <th>Carga Térmica na Ventaneira 38</th>\n",
              "      <th>Volume de Sopro</th>\n",
              "      <th>Umidade do Ar de Sopro</th>\n",
              "      <th>Temperatura do Ar de Sopro</th>\n",
              "      <th>PCI Rate Calculado</th>\n",
              "      <th>Coque Rate_carga</th>\n",
              "      <th>Taxa de O2</th>\n",
              "      <th>Pressão do AR de Sopro</th>\n",
              "      <th>Pressão do Topo</th>\n",
              "      <th>Composição de H2 no Topo</th>\n",
              "      <th>Índice de Permeabilidade 3</th>\n",
              "      <th>Taxa de Carvão O2</th>\n",
              "      <th>Vazão Gás Rampa</th>\n",
              "      <th>Relação CO/CO2</th>\n",
              "      <th>Velocidade de Produção de Gusa</th>\n",
              "      <th>Coque Rate</th>\n",
              "      <th>Redução Direta</th>\n",
              "      <th>Perda Térmica do Stave</th>\n",
              "      <th>Umidade na Carga (Kg/tg)</th>\n",
              "      <th>Escória Rate_carga</th>\n",
              "      <th>Relação M/C_carga</th>\n",
              "      <th>Umidade Coque_carga</th>\n",
              "      <th>Primeira_T_FG</th>\n",
              "      <th>FGND</th>\n",
              "      <th>FG1</th>\n",
              "      <th>FG2</th>\n",
              "      <th>FG3</th>\n",
              "      <th>FG4</th>\n",
              "      <th>CC1</th>\n",
              "      <th>CC2</th>\n",
              "      <th>CCND</th>\n",
              "      <th>TEMPERATURA_ANTERIOR</th>\n",
              "    </tr>\n",
              "    <tr>\n",
              "      <th>Data</th>\n",
              "      <th></th>\n",
              "      <th></th>\n",
              "      <th></th>\n",
              "      <th></th>\n",
              "      <th></th>\n",
              "      <th></th>\n",
              "      <th></th>\n",
              "      <th></th>\n",
              "      <th></th>\n",
              "      <th></th>\n",
              "      <th></th>\n",
              "      <th></th>\n",
              "      <th></th>\n",
              "      <th></th>\n",
              "      <th></th>\n",
              "      <th></th>\n",
              "      <th></th>\n",
              "      <th></th>\n",
              "      <th></th>\n",
              "      <th></th>\n",
              "      <th></th>\n",
              "      <th></th>\n",
              "      <th></th>\n",
              "      <th></th>\n",
              "      <th></th>\n",
              "      <th></th>\n",
              "      <th></th>\n",
              "      <th></th>\n",
              "      <th></th>\n",
              "      <th></th>\n",
              "      <th></th>\n",
              "      <th></th>\n",
              "      <th></th>\n",
              "      <th></th>\n",
              "      <th></th>\n",
              "      <th></th>\n",
              "      <th></th>\n",
              "      <th></th>\n",
              "      <th></th>\n",
              "      <th></th>\n",
              "      <th></th>\n",
              "      <th></th>\n",
              "      <th></th>\n",
              "      <th></th>\n",
              "      <th></th>\n",
              "      <th></th>\n",
              "      <th></th>\n",
              "      <th></th>\n",
              "      <th></th>\n",
              "      <th></th>\n",
              "      <th></th>\n",
              "      <th></th>\n",
              "      <th></th>\n",
              "      <th></th>\n",
              "      <th></th>\n",
              "      <th></th>\n",
              "      <th></th>\n",
              "      <th></th>\n",
              "      <th></th>\n",
              "      <th></th>\n",
              "      <th></th>\n",
              "      <th></th>\n",
              "      <th></th>\n",
              "      <th></th>\n",
              "      <th></th>\n",
              "      <th></th>\n",
              "      <th></th>\n",
              "      <th></th>\n",
              "      <th></th>\n",
              "      <th></th>\n",
              "      <th></th>\n",
              "      <th></th>\n",
              "      <th></th>\n",
              "      <th></th>\n",
              "      <th></th>\n",
              "      <th></th>\n",
              "      <th></th>\n",
              "      <th></th>\n",
              "      <th></th>\n",
              "      <th></th>\n",
              "      <th></th>\n",
              "    </tr>\n",
              "  </thead>\n",
              "  <tbody>\n",
              "    <tr>\n",
              "      <th>2019-01-01 01:00:00</th>\n",
              "      <td>64.4</td>\n",
              "      <td>78.5</td>\n",
              "      <td>98.9</td>\n",
              "      <td>71.5</td>\n",
              "      <td>101.4</td>\n",
              "      <td>60.2</td>\n",
              "      <td>54.2</td>\n",
              "      <td>54.3</td>\n",
              "      <td>65.0</td>\n",
              "      <td>89.4</td>\n",
              "      <td>204.4</td>\n",
              "      <td>77.2</td>\n",
              "      <td>111.7</td>\n",
              "      <td>93.5</td>\n",
              "      <td>88.4</td>\n",
              "      <td>57.5</td>\n",
              "      <td>58.8</td>\n",
              "      <td>88.0</td>\n",
              "      <td>54.8</td>\n",
              "      <td>74.8</td>\n",
              "      <td>127.0</td>\n",
              "      <td>52.0</td>\n",
              "      <td>62.8</td>\n",
              "      <td>65.3</td>\n",
              "      <td>91.5</td>\n",
              "      <td>57.9</td>\n",
              "      <td>63.5</td>\n",
              "      <td>36.6</td>\n",
              "      <td>116.80</td>\n",
              "      <td>34.90</td>\n",
              "      <td>188.90</td>\n",
              "      <td>84.56</td>\n",
              "      <td>141.2</td>\n",
              "      <td>160.5</td>\n",
              "      <td>141.10</td>\n",
              "      <td>149.1</td>\n",
              "      <td>170.6</td>\n",
              "      <td>183.80</td>\n",
              "      <td>139.4</td>\n",
              "      <td>71.8</td>\n",
              "      <td>...</td>\n",
              "      <td>195.6</td>\n",
              "      <td>206.0</td>\n",
              "      <td>172.8</td>\n",
              "      <td>203.4</td>\n",
              "      <td>247.2</td>\n",
              "      <td>194.2</td>\n",
              "      <td>193.9</td>\n",
              "      <td>187.9</td>\n",
              "      <td>94.56</td>\n",
              "      <td>6256.0</td>\n",
              "      <td>21.20</td>\n",
              "      <td>1190.0</td>\n",
              "      <td>193.6</td>\n",
              "      <td>292.2</td>\n",
              "      <td>32640.0</td>\n",
              "      <td>3.92</td>\n",
              "      <td>2.48</td>\n",
              "      <td>4.48</td>\n",
              "      <td>0.230</td>\n",
              "      <td>746.5</td>\n",
              "      <td>9050.0</td>\n",
              "      <td>1.050</td>\n",
              "      <td>6.723</td>\n",
              "      <td>313.5</td>\n",
              "      <td>26.23</td>\n",
              "      <td>1286.0</td>\n",
              "      <td>26.03</td>\n",
              "      <td>242.4</td>\n",
              "      <td>5.355</td>\n",
              "      <td>0.950</td>\n",
              "      <td>0</td>\n",
              "      <td>0</td>\n",
              "      <td>0</td>\n",
              "      <td>0</td>\n",
              "      <td>1</td>\n",
              "      <td>0</td>\n",
              "      <td>0</td>\n",
              "      <td>1</td>\n",
              "      <td>0</td>\n",
              "      <td>1497.0</td>\n",
              "    </tr>\n",
              "    <tr>\n",
              "      <th>2019-01-01 01:30:00</th>\n",
              "      <td>63.8</td>\n",
              "      <td>78.1</td>\n",
              "      <td>101.3</td>\n",
              "      <td>72.2</td>\n",
              "      <td>103.0</td>\n",
              "      <td>59.9</td>\n",
              "      <td>54.2</td>\n",
              "      <td>54.3</td>\n",
              "      <td>65.2</td>\n",
              "      <td>88.2</td>\n",
              "      <td>207.5</td>\n",
              "      <td>77.2</td>\n",
              "      <td>112.2</td>\n",
              "      <td>92.7</td>\n",
              "      <td>88.6</td>\n",
              "      <td>57.5</td>\n",
              "      <td>58.8</td>\n",
              "      <td>92.7</td>\n",
              "      <td>54.5</td>\n",
              "      <td>75.0</td>\n",
              "      <td>127.3</td>\n",
              "      <td>52.0</td>\n",
              "      <td>62.6</td>\n",
              "      <td>64.8</td>\n",
              "      <td>92.4</td>\n",
              "      <td>57.9</td>\n",
              "      <td>63.7</td>\n",
              "      <td>36.8</td>\n",
              "      <td>119.94</td>\n",
              "      <td>38.47</td>\n",
              "      <td>190.60</td>\n",
              "      <td>83.70</td>\n",
              "      <td>139.8</td>\n",
              "      <td>157.2</td>\n",
              "      <td>144.60</td>\n",
              "      <td>151.5</td>\n",
              "      <td>169.8</td>\n",
              "      <td>198.50</td>\n",
              "      <td>139.2</td>\n",
              "      <td>71.3</td>\n",
              "      <td>...</td>\n",
              "      <td>191.9</td>\n",
              "      <td>205.0</td>\n",
              "      <td>170.1</td>\n",
              "      <td>201.2</td>\n",
              "      <td>239.5</td>\n",
              "      <td>195.9</td>\n",
              "      <td>199.8</td>\n",
              "      <td>188.8</td>\n",
              "      <td>99.00</td>\n",
              "      <td>6264.0</td>\n",
              "      <td>21.12</td>\n",
              "      <td>1190.0</td>\n",
              "      <td>194.6</td>\n",
              "      <td>292.8</td>\n",
              "      <td>32930.0</td>\n",
              "      <td>3.93</td>\n",
              "      <td>2.48</td>\n",
              "      <td>4.52</td>\n",
              "      <td>0.232</td>\n",
              "      <td>754.0</td>\n",
              "      <td>9070.0</td>\n",
              "      <td>1.049</td>\n",
              "      <td>6.777</td>\n",
              "      <td>311.0</td>\n",
              "      <td>26.83</td>\n",
              "      <td>1279.0</td>\n",
              "      <td>26.00</td>\n",
              "      <td>242.6</td>\n",
              "      <td>5.350</td>\n",
              "      <td>0.970</td>\n",
              "      <td>0</td>\n",
              "      <td>0</td>\n",
              "      <td>0</td>\n",
              "      <td>0</td>\n",
              "      <td>1</td>\n",
              "      <td>0</td>\n",
              "      <td>0</td>\n",
              "      <td>1</td>\n",
              "      <td>0</td>\n",
              "      <td>1502.0</td>\n",
              "    </tr>\n",
              "    <tr>\n",
              "      <th>2019-01-01 02:00:00</th>\n",
              "      <td>63.3</td>\n",
              "      <td>77.3</td>\n",
              "      <td>110.9</td>\n",
              "      <td>72.5</td>\n",
              "      <td>108.7</td>\n",
              "      <td>59.6</td>\n",
              "      <td>54.2</td>\n",
              "      <td>54.3</td>\n",
              "      <td>65.5</td>\n",
              "      <td>86.2</td>\n",
              "      <td>202.6</td>\n",
              "      <td>77.1</td>\n",
              "      <td>109.8</td>\n",
              "      <td>92.1</td>\n",
              "      <td>89.0</td>\n",
              "      <td>57.4</td>\n",
              "      <td>58.8</td>\n",
              "      <td>99.0</td>\n",
              "      <td>54.3</td>\n",
              "      <td>75.5</td>\n",
              "      <td>123.2</td>\n",
              "      <td>51.9</td>\n",
              "      <td>62.4</td>\n",
              "      <td>64.4</td>\n",
              "      <td>93.7</td>\n",
              "      <td>57.9</td>\n",
              "      <td>63.7</td>\n",
              "      <td>37.4</td>\n",
              "      <td>121.00</td>\n",
              "      <td>39.66</td>\n",
              "      <td>197.50</td>\n",
              "      <td>85.25</td>\n",
              "      <td>143.2</td>\n",
              "      <td>154.0</td>\n",
              "      <td>147.10</td>\n",
              "      <td>162.6</td>\n",
              "      <td>171.6</td>\n",
              "      <td>202.00</td>\n",
              "      <td>136.8</td>\n",
              "      <td>69.5</td>\n",
              "      <td>...</td>\n",
              "      <td>191.5</td>\n",
              "      <td>204.0</td>\n",
              "      <td>169.4</td>\n",
              "      <td>200.2</td>\n",
              "      <td>237.8</td>\n",
              "      <td>194.8</td>\n",
              "      <td>196.1</td>\n",
              "      <td>192.2</td>\n",
              "      <td>101.94</td>\n",
              "      <td>6256.0</td>\n",
              "      <td>21.00</td>\n",
              "      <td>1190.0</td>\n",
              "      <td>199.0</td>\n",
              "      <td>292.2</td>\n",
              "      <td>33060.0</td>\n",
              "      <td>3.93</td>\n",
              "      <td>2.48</td>\n",
              "      <td>4.52</td>\n",
              "      <td>0.231</td>\n",
              "      <td>762.0</td>\n",
              "      <td>9070.0</td>\n",
              "      <td>1.045</td>\n",
              "      <td>6.700</td>\n",
              "      <td>308.5</td>\n",
              "      <td>26.34</td>\n",
              "      <td>1282.0</td>\n",
              "      <td>25.97</td>\n",
              "      <td>242.8</td>\n",
              "      <td>5.360</td>\n",
              "      <td>0.830</td>\n",
              "      <td>0</td>\n",
              "      <td>0</td>\n",
              "      <td>0</td>\n",
              "      <td>0</td>\n",
              "      <td>1</td>\n",
              "      <td>0</td>\n",
              "      <td>0</td>\n",
              "      <td>1</td>\n",
              "      <td>0</td>\n",
              "      <td>1502.0</td>\n",
              "    </tr>\n",
              "    <tr>\n",
              "      <th>2019-01-01 02:30:00</th>\n",
              "      <td>62.8</td>\n",
              "      <td>76.0</td>\n",
              "      <td>125.3</td>\n",
              "      <td>72.6</td>\n",
              "      <td>111.5</td>\n",
              "      <td>59.4</td>\n",
              "      <td>54.3</td>\n",
              "      <td>54.4</td>\n",
              "      <td>66.0</td>\n",
              "      <td>85.6</td>\n",
              "      <td>200.8</td>\n",
              "      <td>76.5</td>\n",
              "      <td>106.2</td>\n",
              "      <td>91.5</td>\n",
              "      <td>89.6</td>\n",
              "      <td>57.4</td>\n",
              "      <td>58.8</td>\n",
              "      <td>99.8</td>\n",
              "      <td>54.2</td>\n",
              "      <td>76.4</td>\n",
              "      <td>112.3</td>\n",
              "      <td>51.8</td>\n",
              "      <td>62.4</td>\n",
              "      <td>64.0</td>\n",
              "      <td>93.6</td>\n",
              "      <td>57.8</td>\n",
              "      <td>63.6</td>\n",
              "      <td>37.3</td>\n",
              "      <td>135.00</td>\n",
              "      <td>50.25</td>\n",
              "      <td>213.50</td>\n",
              "      <td>86.44</td>\n",
              "      <td>144.2</td>\n",
              "      <td>155.4</td>\n",
              "      <td>149.20</td>\n",
              "      <td>153.6</td>\n",
              "      <td>167.4</td>\n",
              "      <td>190.50</td>\n",
              "      <td>137.6</td>\n",
              "      <td>70.6</td>\n",
              "      <td>...</td>\n",
              "      <td>193.4</td>\n",
              "      <td>201.9</td>\n",
              "      <td>171.1</td>\n",
              "      <td>198.0</td>\n",
              "      <td>238.0</td>\n",
              "      <td>192.6</td>\n",
              "      <td>201.1</td>\n",
              "      <td>191.0</td>\n",
              "      <td>94.70</td>\n",
              "      <td>6256.0</td>\n",
              "      <td>20.98</td>\n",
              "      <td>1196.0</td>\n",
              "      <td>191.9</td>\n",
              "      <td>291.5</td>\n",
              "      <td>33100.0</td>\n",
              "      <td>3.95</td>\n",
              "      <td>2.48</td>\n",
              "      <td>4.61</td>\n",
              "      <td>0.235</td>\n",
              "      <td>763.5</td>\n",
              "      <td>9070.0</td>\n",
              "      <td>1.045</td>\n",
              "      <td>6.965</td>\n",
              "      <td>308.0</td>\n",
              "      <td>28.08</td>\n",
              "      <td>1276.0</td>\n",
              "      <td>25.97</td>\n",
              "      <td>243.4</td>\n",
              "      <td>5.370</td>\n",
              "      <td>0.840</td>\n",
              "      <td>0</td>\n",
              "      <td>0</td>\n",
              "      <td>0</td>\n",
              "      <td>0</td>\n",
              "      <td>1</td>\n",
              "      <td>0</td>\n",
              "      <td>0</td>\n",
              "      <td>1</td>\n",
              "      <td>0</td>\n",
              "      <td>1504.0</td>\n",
              "    </tr>\n",
              "    <tr>\n",
              "      <th>2019-01-01 03:00:00</th>\n",
              "      <td>62.4</td>\n",
              "      <td>74.7</td>\n",
              "      <td>132.8</td>\n",
              "      <td>72.3</td>\n",
              "      <td>119.7</td>\n",
              "      <td>59.3</td>\n",
              "      <td>54.3</td>\n",
              "      <td>54.3</td>\n",
              "      <td>66.1</td>\n",
              "      <td>85.2</td>\n",
              "      <td>221.1</td>\n",
              "      <td>75.2</td>\n",
              "      <td>104.1</td>\n",
              "      <td>91.0</td>\n",
              "      <td>89.9</td>\n",
              "      <td>57.4</td>\n",
              "      <td>58.8</td>\n",
              "      <td>95.8</td>\n",
              "      <td>54.1</td>\n",
              "      <td>77.1</td>\n",
              "      <td>101.2</td>\n",
              "      <td>51.8</td>\n",
              "      <td>62.4</td>\n",
              "      <td>63.6</td>\n",
              "      <td>93.1</td>\n",
              "      <td>57.7</td>\n",
              "      <td>63.4</td>\n",
              "      <td>37.3</td>\n",
              "      <td>126.20</td>\n",
              "      <td>44.75</td>\n",
              "      <td>197.00</td>\n",
              "      <td>87.30</td>\n",
              "      <td>146.2</td>\n",
              "      <td>152.2</td>\n",
              "      <td>152.20</td>\n",
              "      <td>149.5</td>\n",
              "      <td>163.1</td>\n",
              "      <td>186.20</td>\n",
              "      <td>137.1</td>\n",
              "      <td>79.6</td>\n",
              "      <td>...</td>\n",
              "      <td>195.6</td>\n",
              "      <td>205.8</td>\n",
              "      <td>168.6</td>\n",
              "      <td>201.8</td>\n",
              "      <td>241.8</td>\n",
              "      <td>195.2</td>\n",
              "      <td>204.6</td>\n",
              "      <td>195.0</td>\n",
              "      <td>94.30</td>\n",
              "      <td>6260.0</td>\n",
              "      <td>20.92</td>\n",
              "      <td>1200.0</td>\n",
              "      <td>195.4</td>\n",
              "      <td>293.2</td>\n",
              "      <td>33500.0</td>\n",
              "      <td>3.95</td>\n",
              "      <td>2.48</td>\n",
              "      <td>4.69</td>\n",
              "      <td>0.236</td>\n",
              "      <td>778.5</td>\n",
              "      <td>9096.0</td>\n",
              "      <td>1.053</td>\n",
              "      <td>6.996</td>\n",
              "      <td>305.0</td>\n",
              "      <td>28.23</td>\n",
              "      <td>1277.0</td>\n",
              "      <td>25.95</td>\n",
              "      <td>243.2</td>\n",
              "      <td>5.340</td>\n",
              "      <td>0.785</td>\n",
              "      <td>0</td>\n",
              "      <td>0</td>\n",
              "      <td>0</td>\n",
              "      <td>0</td>\n",
              "      <td>1</td>\n",
              "      <td>0</td>\n",
              "      <td>0</td>\n",
              "      <td>1</td>\n",
              "      <td>0</td>\n",
              "      <td>1502.0</td>\n",
              "    </tr>\n",
              "    <tr>\n",
              "      <th>...</th>\n",
              "      <td>...</td>\n",
              "      <td>...</td>\n",
              "      <td>...</td>\n",
              "      <td>...</td>\n",
              "      <td>...</td>\n",
              "      <td>...</td>\n",
              "      <td>...</td>\n",
              "      <td>...</td>\n",
              "      <td>...</td>\n",
              "      <td>...</td>\n",
              "      <td>...</td>\n",
              "      <td>...</td>\n",
              "      <td>...</td>\n",
              "      <td>...</td>\n",
              "      <td>...</td>\n",
              "      <td>...</td>\n",
              "      <td>...</td>\n",
              "      <td>...</td>\n",
              "      <td>...</td>\n",
              "      <td>...</td>\n",
              "      <td>...</td>\n",
              "      <td>...</td>\n",
              "      <td>...</td>\n",
              "      <td>...</td>\n",
              "      <td>...</td>\n",
              "      <td>...</td>\n",
              "      <td>...</td>\n",
              "      <td>...</td>\n",
              "      <td>...</td>\n",
              "      <td>...</td>\n",
              "      <td>...</td>\n",
              "      <td>...</td>\n",
              "      <td>...</td>\n",
              "      <td>...</td>\n",
              "      <td>...</td>\n",
              "      <td>...</td>\n",
              "      <td>...</td>\n",
              "      <td>...</td>\n",
              "      <td>...</td>\n",
              "      <td>...</td>\n",
              "      <td>...</td>\n",
              "      <td>...</td>\n",
              "      <td>...</td>\n",
              "      <td>...</td>\n",
              "      <td>...</td>\n",
              "      <td>...</td>\n",
              "      <td>...</td>\n",
              "      <td>...</td>\n",
              "      <td>...</td>\n",
              "      <td>...</td>\n",
              "      <td>...</td>\n",
              "      <td>...</td>\n",
              "      <td>...</td>\n",
              "      <td>...</td>\n",
              "      <td>...</td>\n",
              "      <td>...</td>\n",
              "      <td>...</td>\n",
              "      <td>...</td>\n",
              "      <td>...</td>\n",
              "      <td>...</td>\n",
              "      <td>...</td>\n",
              "      <td>...</td>\n",
              "      <td>...</td>\n",
              "      <td>...</td>\n",
              "      <td>...</td>\n",
              "      <td>...</td>\n",
              "      <td>...</td>\n",
              "      <td>...</td>\n",
              "      <td>...</td>\n",
              "      <td>...</td>\n",
              "      <td>...</td>\n",
              "      <td>...</td>\n",
              "      <td>...</td>\n",
              "      <td>...</td>\n",
              "      <td>...</td>\n",
              "      <td>...</td>\n",
              "      <td>...</td>\n",
              "      <td>...</td>\n",
              "      <td>...</td>\n",
              "      <td>...</td>\n",
              "      <td>...</td>\n",
              "    </tr>\n",
              "    <tr>\n",
              "      <th>2020-10-08 00:00:00</th>\n",
              "      <td>162.6</td>\n",
              "      <td>88.3</td>\n",
              "      <td>97.1</td>\n",
              "      <td>155.1</td>\n",
              "      <td>188.6</td>\n",
              "      <td>170.9</td>\n",
              "      <td>62.5</td>\n",
              "      <td>63.2</td>\n",
              "      <td>87.4</td>\n",
              "      <td>286.8</td>\n",
              "      <td>516.0</td>\n",
              "      <td>192.2</td>\n",
              "      <td>105.5</td>\n",
              "      <td>143.0</td>\n",
              "      <td>424.0</td>\n",
              "      <td>86.8</td>\n",
              "      <td>88.5</td>\n",
              "      <td>124.8</td>\n",
              "      <td>155.1</td>\n",
              "      <td>155.6</td>\n",
              "      <td>85.9</td>\n",
              "      <td>86.8</td>\n",
              "      <td>113.9</td>\n",
              "      <td>139.9</td>\n",
              "      <td>224.9</td>\n",
              "      <td>108.1</td>\n",
              "      <td>247.2</td>\n",
              "      <td>38.2</td>\n",
              "      <td>110.44</td>\n",
              "      <td>74.06</td>\n",
              "      <td>42.56</td>\n",
              "      <td>109.20</td>\n",
              "      <td>163.2</td>\n",
              "      <td>144.2</td>\n",
              "      <td>80.75</td>\n",
              "      <td>145.8</td>\n",
              "      <td>194.5</td>\n",
              "      <td>84.56</td>\n",
              "      <td>158.6</td>\n",
              "      <td>200.0</td>\n",
              "      <td>...</td>\n",
              "      <td>188.5</td>\n",
              "      <td>195.1</td>\n",
              "      <td>216.2</td>\n",
              "      <td>188.4</td>\n",
              "      <td>157.0</td>\n",
              "      <td>217.6</td>\n",
              "      <td>230.6</td>\n",
              "      <td>157.4</td>\n",
              "      <td>151.20</td>\n",
              "      <td>6204.0</td>\n",
              "      <td>21.72</td>\n",
              "      <td>1229.0</td>\n",
              "      <td>203.0</td>\n",
              "      <td>309.5</td>\n",
              "      <td>30640.0</td>\n",
              "      <td>4.11</td>\n",
              "      <td>2.48</td>\n",
              "      <td>5.05</td>\n",
              "      <td>0.264</td>\n",
              "      <td>818.0</td>\n",
              "      <td>9040.0</td>\n",
              "      <td>1.060</td>\n",
              "      <td>6.875</td>\n",
              "      <td>300.0</td>\n",
              "      <td>28.89</td>\n",
              "      <td>2162.0</td>\n",
              "      <td>27.42</td>\n",
              "      <td>256.8</td>\n",
              "      <td>5.120</td>\n",
              "      <td>0.500</td>\n",
              "      <td>0</td>\n",
              "      <td>0</td>\n",
              "      <td>1</td>\n",
              "      <td>0</td>\n",
              "      <td>0</td>\n",
              "      <td>0</td>\n",
              "      <td>1</td>\n",
              "      <td>0</td>\n",
              "      <td>0</td>\n",
              "      <td>1452.0</td>\n",
              "    </tr>\n",
              "    <tr>\n",
              "      <th>2020-10-08 00:30:00</th>\n",
              "      <td>153.4</td>\n",
              "      <td>86.0</td>\n",
              "      <td>94.6</td>\n",
              "      <td>176.6</td>\n",
              "      <td>194.2</td>\n",
              "      <td>173.5</td>\n",
              "      <td>63.6</td>\n",
              "      <td>63.7</td>\n",
              "      <td>93.3</td>\n",
              "      <td>219.4</td>\n",
              "      <td>518.5</td>\n",
              "      <td>201.2</td>\n",
              "      <td>101.1</td>\n",
              "      <td>164.0</td>\n",
              "      <td>431.2</td>\n",
              "      <td>90.1</td>\n",
              "      <td>85.2</td>\n",
              "      <td>115.7</td>\n",
              "      <td>151.8</td>\n",
              "      <td>158.1</td>\n",
              "      <td>86.5</td>\n",
              "      <td>89.9</td>\n",
              "      <td>112.9</td>\n",
              "      <td>162.9</td>\n",
              "      <td>226.2</td>\n",
              "      <td>103.6</td>\n",
              "      <td>229.0</td>\n",
              "      <td>38.0</td>\n",
              "      <td>109.20</td>\n",
              "      <td>80.25</td>\n",
              "      <td>41.10</td>\n",
              "      <td>101.50</td>\n",
              "      <td>165.5</td>\n",
              "      <td>149.9</td>\n",
              "      <td>81.06</td>\n",
              "      <td>146.2</td>\n",
              "      <td>194.9</td>\n",
              "      <td>83.30</td>\n",
              "      <td>150.5</td>\n",
              "      <td>198.4</td>\n",
              "      <td>...</td>\n",
              "      <td>182.9</td>\n",
              "      <td>193.2</td>\n",
              "      <td>206.1</td>\n",
              "      <td>181.6</td>\n",
              "      <td>156.4</td>\n",
              "      <td>225.5</td>\n",
              "      <td>224.4</td>\n",
              "      <td>156.0</td>\n",
              "      <td>149.90</td>\n",
              "      <td>6210.0</td>\n",
              "      <td>23.22</td>\n",
              "      <td>1229.0</td>\n",
              "      <td>200.4</td>\n",
              "      <td>311.5</td>\n",
              "      <td>30820.0</td>\n",
              "      <td>4.09</td>\n",
              "      <td>2.48</td>\n",
              "      <td>5.06</td>\n",
              "      <td>0.259</td>\n",
              "      <td>803.5</td>\n",
              "      <td>9060.0</td>\n",
              "      <td>1.061</td>\n",
              "      <td>6.860</td>\n",
              "      <td>304.0</td>\n",
              "      <td>28.64</td>\n",
              "      <td>2182.0</td>\n",
              "      <td>27.53</td>\n",
              "      <td>257.8</td>\n",
              "      <td>5.080</td>\n",
              "      <td>0.620</td>\n",
              "      <td>0</td>\n",
              "      <td>0</td>\n",
              "      <td>1</td>\n",
              "      <td>0</td>\n",
              "      <td>0</td>\n",
              "      <td>0</td>\n",
              "      <td>1</td>\n",
              "      <td>0</td>\n",
              "      <td>0</td>\n",
              "      <td>1454.0</td>\n",
              "    </tr>\n",
              "    <tr>\n",
              "      <th>2020-10-08 01:00:00</th>\n",
              "      <td>157.0</td>\n",
              "      <td>83.9</td>\n",
              "      <td>92.4</td>\n",
              "      <td>201.8</td>\n",
              "      <td>182.8</td>\n",
              "      <td>167.9</td>\n",
              "      <td>67.9</td>\n",
              "      <td>64.5</td>\n",
              "      <td>102.4</td>\n",
              "      <td>192.6</td>\n",
              "      <td>552.0</td>\n",
              "      <td>204.2</td>\n",
              "      <td>98.8</td>\n",
              "      <td>198.8</td>\n",
              "      <td>427.5</td>\n",
              "      <td>92.4</td>\n",
              "      <td>82.7</td>\n",
              "      <td>107.6</td>\n",
              "      <td>148.5</td>\n",
              "      <td>163.1</td>\n",
              "      <td>88.4</td>\n",
              "      <td>90.3</td>\n",
              "      <td>112.9</td>\n",
              "      <td>409.8</td>\n",
              "      <td>229.2</td>\n",
              "      <td>103.7</td>\n",
              "      <td>219.1</td>\n",
              "      <td>38.0</td>\n",
              "      <td>113.00</td>\n",
              "      <td>76.06</td>\n",
              "      <td>40.75</td>\n",
              "      <td>101.50</td>\n",
              "      <td>153.1</td>\n",
              "      <td>146.0</td>\n",
              "      <td>82.80</td>\n",
              "      <td>146.9</td>\n",
              "      <td>194.6</td>\n",
              "      <td>83.10</td>\n",
              "      <td>156.6</td>\n",
              "      <td>198.0</td>\n",
              "      <td>...</td>\n",
              "      <td>182.1</td>\n",
              "      <td>195.0</td>\n",
              "      <td>204.2</td>\n",
              "      <td>181.4</td>\n",
              "      <td>155.0</td>\n",
              "      <td>222.8</td>\n",
              "      <td>231.9</td>\n",
              "      <td>155.5</td>\n",
              "      <td>146.90</td>\n",
              "      <td>6210.0</td>\n",
              "      <td>23.20</td>\n",
              "      <td>1226.0</td>\n",
              "      <td>204.4</td>\n",
              "      <td>307.2</td>\n",
              "      <td>30780.0</td>\n",
              "      <td>4.11</td>\n",
              "      <td>2.48</td>\n",
              "      <td>5.17</td>\n",
              "      <td>0.262</td>\n",
              "      <td>804.0</td>\n",
              "      <td>9060.0</td>\n",
              "      <td>1.050</td>\n",
              "      <td>6.720</td>\n",
              "      <td>304.0</td>\n",
              "      <td>27.80</td>\n",
              "      <td>2206.0</td>\n",
              "      <td>27.64</td>\n",
              "      <td>256.5</td>\n",
              "      <td>5.156</td>\n",
              "      <td>0.640</td>\n",
              "      <td>0</td>\n",
              "      <td>0</td>\n",
              "      <td>1</td>\n",
              "      <td>0</td>\n",
              "      <td>0</td>\n",
              "      <td>0</td>\n",
              "      <td>1</td>\n",
              "      <td>0</td>\n",
              "      <td>0</td>\n",
              "      <td>1460.0</td>\n",
              "    </tr>\n",
              "    <tr>\n",
              "      <th>2020-10-08 01:30:00</th>\n",
              "      <td>170.2</td>\n",
              "      <td>82.2</td>\n",
              "      <td>90.4</td>\n",
              "      <td>218.2</td>\n",
              "      <td>163.9</td>\n",
              "      <td>151.5</td>\n",
              "      <td>77.2</td>\n",
              "      <td>65.2</td>\n",
              "      <td>119.0</td>\n",
              "      <td>161.0</td>\n",
              "      <td>508.0</td>\n",
              "      <td>205.8</td>\n",
              "      <td>96.9</td>\n",
              "      <td>235.0</td>\n",
              "      <td>427.2</td>\n",
              "      <td>94.4</td>\n",
              "      <td>80.6</td>\n",
              "      <td>100.7</td>\n",
              "      <td>145.5</td>\n",
              "      <td>169.5</td>\n",
              "      <td>88.6</td>\n",
              "      <td>89.4</td>\n",
              "      <td>113.2</td>\n",
              "      <td>472.8</td>\n",
              "      <td>234.8</td>\n",
              "      <td>135.4</td>\n",
              "      <td>220.0</td>\n",
              "      <td>38.0</td>\n",
              "      <td>112.20</td>\n",
              "      <td>74.44</td>\n",
              "      <td>40.16</td>\n",
              "      <td>100.75</td>\n",
              "      <td>153.5</td>\n",
              "      <td>150.6</td>\n",
              "      <td>84.10</td>\n",
              "      <td>140.1</td>\n",
              "      <td>198.6</td>\n",
              "      <td>82.80</td>\n",
              "      <td>155.2</td>\n",
              "      <td>197.2</td>\n",
              "      <td>...</td>\n",
              "      <td>179.9</td>\n",
              "      <td>194.8</td>\n",
              "      <td>206.0</td>\n",
              "      <td>186.1</td>\n",
              "      <td>154.5</td>\n",
              "      <td>221.1</td>\n",
              "      <td>234.2</td>\n",
              "      <td>154.5</td>\n",
              "      <td>152.50</td>\n",
              "      <td>6210.0</td>\n",
              "      <td>23.27</td>\n",
              "      <td>1228.0</td>\n",
              "      <td>200.5</td>\n",
              "      <td>307.2</td>\n",
              "      <td>30770.0</td>\n",
              "      <td>4.10</td>\n",
              "      <td>2.48</td>\n",
              "      <td>5.08</td>\n",
              "      <td>0.261</td>\n",
              "      <td>796.0</td>\n",
              "      <td>9050.0</td>\n",
              "      <td>1.045</td>\n",
              "      <td>6.785</td>\n",
              "      <td>305.2</td>\n",
              "      <td>28.05</td>\n",
              "      <td>2244.0</td>\n",
              "      <td>27.77</td>\n",
              "      <td>257.2</td>\n",
              "      <td>5.156</td>\n",
              "      <td>0.625</td>\n",
              "      <td>0</td>\n",
              "      <td>1</td>\n",
              "      <td>0</td>\n",
              "      <td>0</td>\n",
              "      <td>0</td>\n",
              "      <td>0</td>\n",
              "      <td>0</td>\n",
              "      <td>0</td>\n",
              "      <td>1</td>\n",
              "      <td>1466.0</td>\n",
              "    </tr>\n",
              "    <tr>\n",
              "      <th>2020-10-08 02:00:00</th>\n",
              "      <td>195.2</td>\n",
              "      <td>80.9</td>\n",
              "      <td>88.6</td>\n",
              "      <td>225.1</td>\n",
              "      <td>152.2</td>\n",
              "      <td>136.1</td>\n",
              "      <td>84.1</td>\n",
              "      <td>65.5</td>\n",
              "      <td>124.3</td>\n",
              "      <td>169.8</td>\n",
              "      <td>549.5</td>\n",
              "      <td>201.1</td>\n",
              "      <td>95.2</td>\n",
              "      <td>271.5</td>\n",
              "      <td>380.0</td>\n",
              "      <td>98.8</td>\n",
              "      <td>78.9</td>\n",
              "      <td>94.9</td>\n",
              "      <td>143.2</td>\n",
              "      <td>173.1</td>\n",
              "      <td>87.0</td>\n",
              "      <td>90.8</td>\n",
              "      <td>115.2</td>\n",
              "      <td>454.5</td>\n",
              "      <td>238.6</td>\n",
              "      <td>223.1</td>\n",
              "      <td>216.6</td>\n",
              "      <td>37.9</td>\n",
              "      <td>111.90</td>\n",
              "      <td>73.75</td>\n",
              "      <td>40.22</td>\n",
              "      <td>106.70</td>\n",
              "      <td>163.0</td>\n",
              "      <td>151.2</td>\n",
              "      <td>77.70</td>\n",
              "      <td>139.4</td>\n",
              "      <td>194.5</td>\n",
              "      <td>82.75</td>\n",
              "      <td>156.0</td>\n",
              "      <td>197.2</td>\n",
              "      <td>...</td>\n",
              "      <td>177.1</td>\n",
              "      <td>190.0</td>\n",
              "      <td>207.5</td>\n",
              "      <td>182.0</td>\n",
              "      <td>154.6</td>\n",
              "      <td>235.1</td>\n",
              "      <td>227.1</td>\n",
              "      <td>154.6</td>\n",
              "      <td>151.20</td>\n",
              "      <td>6172.0</td>\n",
              "      <td>24.34</td>\n",
              "      <td>1219.0</td>\n",
              "      <td>198.1</td>\n",
              "      <td>311.8</td>\n",
              "      <td>30770.0</td>\n",
              "      <td>4.12</td>\n",
              "      <td>2.48</td>\n",
              "      <td>4.89</td>\n",
              "      <td>0.266</td>\n",
              "      <td>776.5</td>\n",
              "      <td>9000.0</td>\n",
              "      <td>1.048</td>\n",
              "      <td>6.668</td>\n",
              "      <td>309.8</td>\n",
              "      <td>27.39</td>\n",
              "      <td>2274.0</td>\n",
              "      <td>27.73</td>\n",
              "      <td>257.5</td>\n",
              "      <td>5.080</td>\n",
              "      <td>0.665</td>\n",
              "      <td>1</td>\n",
              "      <td>0</td>\n",
              "      <td>0</td>\n",
              "      <td>0</td>\n",
              "      <td>1</td>\n",
              "      <td>0</td>\n",
              "      <td>0</td>\n",
              "      <td>1</td>\n",
              "      <td>0</td>\n",
              "      <td>1466.0</td>\n",
              "    </tr>\n",
              "  </tbody>\n",
              "</table>\n",
              "<p>29455 rows × 97 columns</p>\n",
              "</div>"
            ],
            "text/plain": [
              "                     Temperatura -  TE05B1_A  ...  TEMPERATURA_ANTERIOR\n",
              "Data                                          ...                      \n",
              "2019-01-01 01:00:00                     64.4  ...                1497.0\n",
              "2019-01-01 01:30:00                     63.8  ...                1502.0\n",
              "2019-01-01 02:00:00                     63.3  ...                1502.0\n",
              "2019-01-01 02:30:00                     62.8  ...                1504.0\n",
              "2019-01-01 03:00:00                     62.4  ...                1502.0\n",
              "...                                      ...  ...                   ...\n",
              "2020-10-08 00:00:00                    162.6  ...                1452.0\n",
              "2020-10-08 00:30:00                    153.4  ...                1454.0\n",
              "2020-10-08 01:00:00                    157.0  ...                1460.0\n",
              "2020-10-08 01:30:00                    170.2  ...                1466.0\n",
              "2020-10-08 02:00:00                    195.2  ...                1466.0\n",
              "\n",
              "[29455 rows x 97 columns]"
            ]
          },
          "metadata": {},
          "execution_count": 56
        }
      ],
      "source": [
        "df_treino.drop('TEMPERATURA', axis=1)"
      ]
    },
    {
      "cell_type": "code",
      "execution_count": 57,
      "metadata": {
        "colab": {
          "base_uri": "https://localhost:8080/"
        },
        "id": "OCK6Q6glUeEW",
        "outputId": "94d08564-0e4f-44bb-f66b-2f34b197dadc"
      },
      "outputs": [
        {
          "output_type": "execute_result",
          "data": {
            "text/plain": [
              "Data\n",
              "2019-01-01 01:00:00    1502.0\n",
              "2019-01-01 01:30:00    1502.0\n",
              "2019-01-01 02:00:00    1504.0\n",
              "2019-01-01 02:30:00    1502.0\n",
              "2019-01-01 03:00:00    1508.0\n",
              "                        ...  \n",
              "2020-10-08 00:00:00    1454.0\n",
              "2020-10-08 00:30:00    1460.0\n",
              "2020-10-08 01:00:00    1466.0\n",
              "2020-10-08 01:30:00    1466.0\n",
              "2020-10-08 02:00:00    1475.0\n",
              "Name: TEMPERATURA, Length: 29455, dtype: float64"
            ]
          },
          "metadata": {},
          "execution_count": 57
        }
      ],
      "source": [
        "df_treino['TEMPERATURA']"
      ]
    },
    {
      "cell_type": "markdown",
      "metadata": {
        "id": "qVXivOX6UeEX"
      },
      "source": [
        "# Aplica Scaler"
      ]
    },
    {
      "cell_type": "code",
      "execution_count": 58,
      "metadata": {
        "id": "C8ipKV3dUeEX"
      },
      "outputs": [],
      "source": [
        "#Similar fit/transform standard scaler\n",
        "df_treino_x_mean = np.mean(df_treino_x, axis=0)\n",
        "df_treino_y_mean = np.mean(df_treino_y)\n",
        "\n",
        "df_treino_x_std = np.max(np.abs(df_treino_x), axis=0) # np.std(df_treino_x, axis=0)\n",
        "df_treino_y_std = np.max(np.abs(df_treino_y), axis=0) # np.std(df_treino_y)\n",
        "\n",
        "df_treino_x_scaled = (df_treino_x - df_treino_x_mean) / df_treino_x_std\n",
        "df_treino_y_scaled = (df_treino_y - df_treino_y_mean) / df_treino_y_std"
      ]
    },
    {
      "cell_type": "code",
      "execution_count": 59,
      "metadata": {
        "colab": {
          "base_uri": "https://localhost:8080/"
        },
        "id": "gSLpnRFtUeEX",
        "outputId": "5bac41fc-0d4e-4b6f-eabf-be4664a1bd38"
      },
      "outputs": [
        {
          "output_type": "stream",
          "name": "stdout",
          "text": [
            "(97,) () (97,) (29455, 97) (29455,)\n"
          ]
        }
      ],
      "source": [
        "print(df_treino_x_mean.shape, df_treino_y_mean.shape, df_treino_x_std.shape, df_treino_x_scaled.shape, df_treino_y_scaled.shape)"
      ]
    },
    {
      "cell_type": "code",
      "execution_count": 60,
      "metadata": {
        "colab": {
          "base_uri": "https://localhost:8080/"
        },
        "id": "80sO_RgSUeEY",
        "outputId": "d714b3dc-03f7-405c-e942-208784962cd2"
      },
      "outputs": [
        {
          "output_type": "stream",
          "name": "stdout",
          "text": [
            "[-0.1181355  -0.11034368 -0.15287181 -0.11546624 -0.11293266 -0.07300521\n",
            " -0.11118768 -0.18630982 -0.09009827 -0.05790078 -0.07723857 -0.06727075\n",
            " -0.08860474 -0.0966643  -0.07311657 -0.1475755  -0.15284895 -0.2106045\n",
            " -0.16356459 -0.18164162 -0.1758693  -0.14762784 -0.22210542 -0.12983389\n",
            " -0.14021706 -0.12734607 -0.09162399 -0.30658602 -1.01957461 -1.01293773\n",
            " -0.46244825 -0.71499606 -0.6130822  -0.46072884 -0.69310696 -0.6367694\n",
            " -0.41708862 -0.69476088 -0.5258388  -0.60138444 -0.46688805 -0.52640192\n",
            " -0.03807002 -0.99440715 -0.53416595 -0.64782577 -0.49129875 -0.46302183\n",
            " -0.47916343 -0.46132147 -0.42385405 -0.43430422 -0.46066597 -0.52422304\n",
            " -0.45272147 -0.46266744 -0.47655287 -0.69813415 -0.66836183 -0.99568551\n",
            " -0.76115463 -0.58685298 -0.67794488 -0.19640325 -0.88635951 -0.66175102\n",
            " -0.92761923 -0.33253547 -0.85578311 -0.91853563 -0.27683094 -0.73196925\n",
            " -0.90426193 -0.94473178 -0.67867233 -0.0254985  -0.61370417 -0.91044356\n",
            " -0.52402853 -1.25325484 -1.1716186  -0.32434545 -0.72967889 -0.30958853\n",
            " -0.06714997 -0.18226824 -0.99961885 -0.17528433 -0.30188423 -0.16924122\n",
            " -0.1831947  -0.16920727 -0.17647259 -0.35243592 -0.34567985 -0.30188423\n",
            " -0.06860538]\n",
            "[7.79466754e-01 7.99130002e-01 6.99373087e-01 7.83851631e-01\n",
            " 7.80363775e-01 8.44115030e-01 7.67149465e-01 6.44265956e-01\n",
            " 8.96237886e-01 8.97831896e-01 8.81998379e-01 8.89122888e-01\n",
            " 8.68210840e-01 8.48458415e-01 8.91126830e-01 7.07743647e-01\n",
            " 7.14869495e-01 6.33601931e-01 6.86042073e-01 6.79085024e-01\n",
            " 6.65750385e-01 6.93990089e-01 5.73696107e-01 8.61201789e-01\n",
            " 7.73022658e-01 8.52874989e-01 8.57395619e-01 2.91152271e-01\n",
            " 5.23799707e-01 9.89965364e-02 7.98022957e-01 6.14160168e-01\n",
            " 5.56468966e-01 6.04266064e-01 5.98106100e-01 4.45543000e-01\n",
            " 8.06563550e-01 6.81264649e-01 5.23753936e-01 7.25517225e-01\n",
            " 5.33358739e-01 6.38940678e-01 9.90054982e-01 3.87511668e-01\n",
            " 4.65834048e-01 3.52841716e-01 5.08618646e-01 8.17852952e-01\n",
            " 7.79717897e-01 8.08794496e-01 9.07794720e-01 7.96915626e-01\n",
            " 8.25003571e-01 7.90933094e-01 8.16474957e-01 8.57504855e-01\n",
            " 8.42589309e-01 3.04679242e-01 3.32276179e-01 4.25683434e-01\n",
            " 2.40267173e-01 4.14236195e-01 3.22902022e-01 8.03636152e-01\n",
            " 6.71888391e-01 4.02767553e-01 7.23807703e-02 6.29278797e-01\n",
            " 3.11699507e-02 5.99559604e-01 7.23169056e-01 3.09130224e-01\n",
            " 9.80854857e-02 5.52682224e-02 2.48346304e-01 9.93554758e-01\n",
            " 3.86295832e-01 8.95521727e-02 4.75971468e-01 1.83864964e-01\n",
            " 5.27306127e-01 9.25403793e-01 5.23160231e-01 4.99149337e-01\n",
            " 9.32850026e-01 8.17731755e-01 8.98145980e-04 8.24715668e-01\n",
            " 6.98115770e-01 8.30758785e-01 8.16805296e-01 8.30792735e-01\n",
            " 8.23527415e-01 6.47564081e-01 6.54320149e-01 6.98115770e-01\n",
            " 4.87804032e-02]\n",
            "[ 1.35088756e-17  2.70177513e-17 -3.08774300e-17  2.31580725e-17\n",
            " -3.85967875e-18  6.75443782e-18 -2.89475907e-17  2.31580725e-17\n",
            "  0.00000000e+00  1.06141166e-17  9.64919689e-18 -7.71935751e-18\n",
            "  3.85967875e-18  1.15790363e-17  6.75443782e-18 -1.54387150e-17\n",
            "  3.08774300e-17  7.52637357e-17  3.85967875e-18  6.75443782e-17\n",
            " -2.70177513e-17  4.43863057e-17  3.08774300e-17  1.92983938e-17\n",
            "  2.31580725e-17  1.92983938e-18 -6.75443782e-18 -7.23689767e-17\n",
            "  6.60969987e-17  6.03074805e-19  1.15790363e-17  3.08774300e-17\n",
            "  1.76097843e-17  2.99125103e-17  5.30705829e-18  5.40355026e-17\n",
            "  6.27197798e-18 -1.54387150e-17  1.43531804e-17  5.78951813e-17\n",
            " -4.34213860e-17  2.89475907e-17  2.71383662e-18  3.85967875e-18\n",
            "  7.96058743e-18  4.24564663e-17 -1.01316567e-17  3.85967875e-18\n",
            " -2.02633135e-17 -4.82459844e-18  5.78951813e-18  1.49562552e-17\n",
            "  9.64919689e-18  1.15790363e-17  3.37721891e-18 -8.68427720e-18\n",
            "  5.30705829e-18  8.29830932e-17  2.29168426e-18  4.63161451e-17\n",
            "  3.81143277e-17  3.28072694e-17 -3.85967875e-18  1.08553465e-17\n",
            "  3.47371088e-17  5.64478018e-17  2.12282332e-17  1.15790363e-17\n",
            " -9.74568886e-17 -6.85092979e-17 -4.72810647e-17  1.54387150e-17\n",
            "  4.48687655e-17  1.32676457e-17 -1.73685544e-17  7.23689767e-19\n",
            "  3.08774300e-17 -1.35088756e-17 -4.39038458e-17 -5.37942726e-17\n",
            "  1.15790363e-17  2.41229922e-18 -7.71935751e-18 -3.85967875e-17\n",
            "  1.74891694e-18 -1.27851859e-17 -6.03074805e-20  4.58336852e-18\n",
            " -3.93204773e-17  8.20181735e-18  7.23689767e-18  4.10090868e-17\n",
            " -3.71494080e-17 -1.72479394e-17 -4.78841396e-17 -3.93204773e-17\n",
            " -6.31720859e-18]\n",
            "[0.098896   0.08360341 0.09734523 0.0946783  0.09018734 0.05224221\n",
            " 0.05701073 0.05526735 0.0643558  0.05270845 0.09544211 0.0768704\n",
            " 0.09905448 0.10266952 0.07030452 0.08916642 0.10986566 0.12327012\n",
            " 0.12174157 0.11659922 0.10927929 0.09588056 0.10954077 0.11322352\n",
            " 0.11387273 0.09731614 0.10434685 0.09284881 0.09384485 0.06339796\n",
            " 0.15546608 0.10014177 0.0827749  0.1065168  0.10875126 0.09221791\n",
            " 0.10328813 0.18965614 0.07637522 0.19749783 0.06739411 0.13179107\n",
            " 0.01924504 0.29483998 0.07694834 0.08028784 0.066918   0.05083043\n",
            " 0.07127926 0.04950863 0.11218127 0.0466936  0.0517555  0.06366906\n",
            " 0.04982639 0.05044269 0.0510463  0.10166953 0.08922358 0.16005451\n",
            " 0.0996601  0.10976045 0.09301213 0.07849144 0.20274182 0.1105932\n",
            " 0.1258602  0.07371043 0.03511072 0.06601983 0.02645173 0.17771892\n",
            " 0.10775619 0.13098734 0.09238213 0.04216733 0.10407314 0.12558494\n",
            " 0.02838439 0.1241354  0.02103466 0.01210772 0.10868385 0.12266906\n",
            " 0.00968916 0.01627291 0.01330575 0.38021012 0.45907531 0.37496483\n",
            " 0.38682606 0.37493488 0.38122174 0.47772884 0.47558941 0.45907531\n",
            " 0.0146139 ]\n",
            "-0.0686049096660396\n",
            "0.04878087713599085\n",
            "4.4733073692926015e-17\n",
            "0.014614166160194893\n"
          ]
        }
      ],
      "source": [
        "print(np.min(df_treino_x_scaled, axis=0))\n",
        "print(np.max(df_treino_x_scaled, axis=0))\n",
        "print(np.mean(df_treino_x_scaled, axis=0))\n",
        "print(np.std(df_treino_x_scaled, axis=0))\n",
        "\n",
        "print(np.min(df_treino_y_scaled, axis=0))\n",
        "print(np.max(df_treino_y_scaled, axis=0))\n",
        "print(np.mean(df_treino_y_scaled, axis=0))\n",
        "print(np.std(df_treino_y_scaled, axis=0))\n"
      ]
    },
    {
      "cell_type": "code",
      "execution_count": 61,
      "metadata": {
        "id": "yA-_s8T6UeEY"
      },
      "outputs": [],
      "source": [
        "#Similar transform\n",
        "df_teste_treino_x_scaled = (df_teste_treino_x - df_treino_x_mean) / df_treino_x_std\n",
        "df_teste_treino_y_scaled = (df_teste_treino_y - df_treino_y_mean) / df_treino_y_std\n",
        "\n",
        "df_validacao_x_scaled = (df_validacao_x - df_treino_x_mean) / df_treino_x_std\n",
        "df_validacao_y_scaled = (df_validacao_y - df_treino_y_mean) / df_treino_y_std"
      ]
    },
    {
      "cell_type": "code",
      "execution_count": 62,
      "metadata": {
        "colab": {
          "base_uri": "https://localhost:8080/"
        },
        "id": "7lxjP4KAUeEY",
        "outputId": "57be48aa-5916-475b-c848-2db49ac8dc9c"
      },
      "outputs": [
        {
          "output_type": "stream",
          "name": "stdout",
          "text": [
            "df_treino_x_scaled.shape=(29455, 97)\n",
            "df_treino_y_scaled.shape=(29455,)\n",
            "df_teste_treino_x_scaled.shape=(2000, 97)\n",
            "df_teste_treino_y_scaled.shape=(2000,)\n",
            "df_validacao_x_scaled.shape=(2000, 97)\n",
            "df_validacao_y_scaled.shape=(2000,)\n"
          ]
        }
      ],
      "source": [
        "print(f'df_treino_x_scaled.shape={df_treino_x_scaled.shape}')\n",
        "print(f'df_treino_y_scaled.shape={df_treino_y_scaled.shape}')\n",
        "print(f'df_teste_treino_x_scaled.shape={df_teste_treino_x_scaled.shape}')\n",
        "print(f'df_teste_treino_y_scaled.shape={df_teste_treino_y_scaled.shape}')\n",
        "print(f'df_validacao_x_scaled.shape={df_validacao_x_scaled.shape}')\n",
        "print(f'df_validacao_y_scaled.shape={df_validacao_y_scaled.shape}')"
      ]
    },
    {
      "cell_type": "markdown",
      "metadata": {
        "id": "iLply5k7UeEZ"
      },
      "source": [
        "# Separa em janelas"
      ]
    },
    {
      "cell_type": "code",
      "execution_count": 63,
      "metadata": {
        "colab": {
          "base_uri": "https://localhost:8080/"
        },
        "id": "h9xaZ9V8UeEZ",
        "outputId": "114df210-6356-4591-da33-7c263ff8dbfe"
      },
      "outputs": [
        {
          "output_type": "stream",
          "name": "stdout",
          "text": [
            "inputs.shape: (29423, 32, 97) outputs.shape: (29423,)\n"
          ]
        }
      ],
      "source": [
        "def to_sequences(window_size, data_x, data_y):\n",
        "    inputs = []\n",
        "    outputs = []\n",
        "\n",
        "    for idx in range(window_size, len(data_x)):\n",
        "        inputs.append(data_x[(idx - window_size): idx])\n",
        "        outputs.append(data_y[idx])\n",
        "\n",
        "    inputs = np.array(inputs)\n",
        "    outputs = np.array(outputs)\n",
        "\n",
        "    return inputs, outputs\n",
        "\n",
        "WINDOW_SIZE = 32\n",
        "\n",
        "inputs, outputs = to_sequences(WINDOW_SIZE, df_treino_x, df_treino_y)\n",
        "\n",
        "print(f\"inputs.shape: {inputs.shape} outputs.shape: {outputs.shape}\")"
      ]
    },
    {
      "cell_type": "code",
      "execution_count": 64,
      "metadata": {
        "id": "tncUZMQgUeEZ"
      },
      "outputs": [],
      "source": [
        "#def to_sequences(SEQUENCE_SIZE, obsx, obsy):\n",
        "#    x = []\n",
        "#    y = []\n",
        "#\n",
        "#    for i in range(len(obsx) - SEQUENCE_SIZE):\n",
        "#        #print(i)\n",
        "#        window = obsx[i:(i + SEQUENCE_SIZE)]\n",
        "#        #print('window',i, 'ate', (i+SEQUENCE_SIZE))\n",
        "#        #print('###')\n",
        "#        \n",
        "#        after_window = obsy[i + SEQUENCE_SIZE]\n",
        "#        #print('after_window', (i+SEQUENCE_SIZE))\n",
        "#        #print('###')\n",
        "#        \n",
        "#        window = [[x] for x in window]\n",
        "#        #print(\"{} - {}\".format(window,after_window))\n",
        "#        #print('######')\n",
        "#        \n",
        "#        x.append(window)\n",
        "#        y.append(after_window)\n",
        "#\n",
        "#    return np.array(x), np.array(y)"
      ]
    },
    {
      "cell_type": "code",
      "execution_count": 65,
      "metadata": {
        "id": "c3cz-cD1UeEa"
      },
      "outputs": [],
      "source": [
        "SEQUENCE_SIZE = 32\n",
        "\n",
        "treino_numpy_in, treino_numpy_out = to_sequences(SEQUENCE_SIZE, df_treino_x_scaled, df_treino_y_scaled)\n",
        "teste_treino_numpy_in, teste_treino_numpy_out = to_sequences(SEQUENCE_SIZE, df_teste_treino_x_scaled, df_teste_treino_y_scaled)\n",
        "validacao_numpy_in, validacao_numpy_out = to_sequences(SEQUENCE_SIZE, df_validacao_x_scaled, df_validacao_y_scaled)"
      ]
    },
    {
      "cell_type": "code",
      "execution_count": 66,
      "metadata": {
        "colab": {
          "base_uri": "https://localhost:8080/"
        },
        "id": "9Hg2oGlyUeEa",
        "outputId": "ad8c848c-1f18-4425-9f9c-ad95d468f48a"
      },
      "outputs": [
        {
          "output_type": "stream",
          "name": "stdout",
          "text": [
            "treino_numpy_in.shape (29423, 32, 97)\n",
            "treino_numpy_out.shape (29423,)\n",
            "x_train.shape (29423, 32, 97)\n",
            "y_train.shape (29423, 1)\n"
          ]
        }
      ],
      "source": [
        "print(f\"treino_numpy_in.shape {treino_numpy_in.shape}\")\n",
        "print(f\"treino_numpy_out.shape {treino_numpy_out.shape}\")\n",
        "\n",
        "x_train = treino_numpy_in.reshape(treino_numpy_in.shape[0], treino_numpy_in.shape[1], treino_numpy_in.shape[2])\n",
        "y_train = treino_numpy_out.reshape(treino_numpy_in.shape[0],1)\n",
        "\n",
        "print(f\"x_train.shape {x_train.shape}\")\n",
        "print(f\"y_train.shape {y_train.shape}\")"
      ]
    },
    {
      "cell_type": "code",
      "execution_count": 67,
      "metadata": {
        "colab": {
          "base_uri": "https://localhost:8080/"
        },
        "id": "dO5BF4jKUeEa",
        "outputId": "db208ffa-de30-4667-b4cc-a24f90562f52"
      },
      "outputs": [
        {
          "output_type": "stream",
          "name": "stdout",
          "text": [
            "teste_treino_numpy_in.shape (1968, 32, 97)\n",
            "teste_treino_numpy_out.shape (1968,)\n",
            "x_teste_train.shape (1968, 32, 97)\n",
            "y_teste_train.shape (1968, 1)\n"
          ]
        }
      ],
      "source": [
        "print(f\"teste_treino_numpy_in.shape {teste_treino_numpy_in.shape}\")\n",
        "print(f\"teste_treino_numpy_out.shape {teste_treino_numpy_out.shape}\")\n",
        "\n",
        "x_teste_train = teste_treino_numpy_in.reshape(teste_treino_numpy_in.shape[0], teste_treino_numpy_in.shape[1], teste_treino_numpy_in.shape[2])\n",
        "y_teste_train = teste_treino_numpy_out.reshape(teste_treino_numpy_in.shape[0],1)\n",
        "\n",
        "print(f\"x_teste_train.shape {x_teste_train.shape}\")\n",
        "print(f\"y_teste_train.shape {y_teste_train.shape}\")"
      ]
    },
    {
      "cell_type": "code",
      "execution_count": 68,
      "metadata": {
        "id": "MlQQ6ESGUeEa",
        "colab": {
          "base_uri": "https://localhost:8080/"
        },
        "outputId": "8391ea3d-f29a-49f4-ed34-d468201b7f06"
      },
      "outputs": [
        {
          "output_type": "stream",
          "name": "stdout",
          "text": [
            "validacao_numpy_in.shape (1968, 32, 97)\n",
            "validacao_numpy_out.shape (1968,)\n",
            "x_test.shape (1968, 32, 97)\n",
            "y_test.shape (1968, 1)\n"
          ]
        }
      ],
      "source": [
        "print(f\"validacao_numpy_in.shape {validacao_numpy_in.shape}\")\n",
        "print(f\"validacao_numpy_out.shape {validacao_numpy_out.shape}\")\n",
        "\n",
        "x_test = validacao_numpy_in.reshape(validacao_numpy_in.shape[0], validacao_numpy_in.shape[1], validacao_numpy_in.shape[2])\n",
        "y_test = validacao_numpy_out.reshape(validacao_numpy_in.shape[0],1)\n",
        "\n",
        "print(f\"x_test.shape {x_test.shape}\")\n",
        "print(f\"y_test.shape {y_test.shape}\")"
      ]
    },
    {
      "cell_type": "code",
      "execution_count": 69,
      "metadata": {
        "id": "uqpK4HcwUeEa",
        "colab": {
          "base_uri": "https://localhost:8080/"
        },
        "outputId": "00a5fbc6-f244-46dd-bd95-3ee8d9289909"
      },
      "outputs": [
        {
          "output_type": "stream",
          "name": "stdout",
          "text": [
            "x_train.shape (29423, 32, 97)\n",
            "x_teste_train.shape (1968, 32, 97)\n",
            "x_test.shape (1968, 32, 97)\n",
            "y_train.shape (29423, 1)\n",
            "y_teste_train.shape (1968, 1)\n",
            "y_test.shape (1968, 1)\n"
          ]
        }
      ],
      "source": [
        "#31521 windows\n",
        "#32 amostras cada\n",
        "#com 97 feature cada\n",
        "\n",
        "print(f\"x_train.shape {x_train.shape}\")\n",
        "print(f\"x_teste_train.shape {x_teste_train.shape}\")\n",
        "print(f\"x_test.shape {x_test.shape}\")\n",
        "print(f\"y_train.shape {y_train.shape}\")\n",
        "print(f\"y_teste_train.shape {y_teste_train.shape}\")\n",
        "print(f\"y_test.shape {y_test.shape}\")"
      ]
    },
    {
      "cell_type": "markdown",
      "metadata": {
        "id": "NbGu3TZGUeEb"
      },
      "source": [
        "# TREINO E VALIDAÇÃO"
      ]
    },
    {
      "cell_type": "code",
      "execution_count": 70,
      "metadata": {
        "id": "FAhV7aYZUeEb",
        "colab": {
          "base_uri": "https://localhost:8080/"
        },
        "outputId": "59a4b07c-9e1d-4a3c-8807-30d2744f08e1"
      },
      "outputs": [
        {
          "output_type": "stream",
          "name": "stdout",
          "text": [
            "Epoch 1/50\n"
          ]
        },
        {
          "output_type": "stream",
          "name": "stderr",
          "text": [
            "WARNING:absl:Found untraced functions such as lstm_cell_layer_call_fn, lstm_cell_layer_call_and_return_conditional_losses, lstm_cell_1_layer_call_fn, lstm_cell_1_layer_call_and_return_conditional_losses, lstm_cell_layer_call_fn while saving (showing 5 of 10). These functions will not be directly callable after loading.\n"
          ]
        },
        {
          "output_type": "stream",
          "name": "stdout",
          "text": [
            "INFO:tensorflow:Assets written to: lstm_v3_temperatura_e_sensores_callback/assets\n"
          ]
        },
        {
          "output_type": "stream",
          "name": "stderr",
          "text": [
            "INFO:tensorflow:Assets written to: lstm_v3_temperatura_e_sensores_callback/assets\n",
            "WARNING:absl:<keras.layers.recurrent.LSTMCell object at 0x7f7508c0e8d0> has the same name 'LSTMCell' as a built-in Keras object. Consider renaming <class 'keras.layers.recurrent.LSTMCell'> to avoid naming conflicts when loading with `tf.keras.models.load_model`. If renaming is not possible, pass the object in the `custom_objects` parameter of the load function.\n",
            "WARNING:absl:<keras.layers.recurrent.LSTMCell object at 0x7f7508b8f950> has the same name 'LSTMCell' as a built-in Keras object. Consider renaming <class 'keras.layers.recurrent.LSTMCell'> to avoid naming conflicts when loading with `tf.keras.models.load_model`. If renaming is not possible, pass the object in the `custom_objects` parameter of the load function.\n"
          ]
        },
        {
          "output_type": "stream",
          "name": "stdout",
          "text": [
            "29/29 - 58s - loss: 3.4552e-04 - val_loss: 1.5162e-04 - 58s/epoch - 2s/step\n",
            "Epoch 2/50\n"
          ]
        },
        {
          "output_type": "stream",
          "name": "stderr",
          "text": [
            "WARNING:absl:Found untraced functions such as lstm_cell_layer_call_fn, lstm_cell_layer_call_and_return_conditional_losses, lstm_cell_1_layer_call_fn, lstm_cell_1_layer_call_and_return_conditional_losses, lstm_cell_layer_call_fn while saving (showing 5 of 10). These functions will not be directly callable after loading.\n"
          ]
        },
        {
          "output_type": "stream",
          "name": "stdout",
          "text": [
            "INFO:tensorflow:Assets written to: lstm_v3_temperatura_e_sensores_callback/assets\n"
          ]
        },
        {
          "output_type": "stream",
          "name": "stderr",
          "text": [
            "INFO:tensorflow:Assets written to: lstm_v3_temperatura_e_sensores_callback/assets\n",
            "WARNING:absl:<keras.layers.recurrent.LSTMCell object at 0x7f7508c0e8d0> has the same name 'LSTMCell' as a built-in Keras object. Consider renaming <class 'keras.layers.recurrent.LSTMCell'> to avoid naming conflicts when loading with `tf.keras.models.load_model`. If renaming is not possible, pass the object in the `custom_objects` parameter of the load function.\n",
            "WARNING:absl:<keras.layers.recurrent.LSTMCell object at 0x7f7508b8f950> has the same name 'LSTMCell' as a built-in Keras object. Consider renaming <class 'keras.layers.recurrent.LSTMCell'> to avoid naming conflicts when loading with `tf.keras.models.load_model`. If renaming is not possible, pass the object in the `custom_objects` parameter of the load function.\n"
          ]
        },
        {
          "output_type": "stream",
          "name": "stdout",
          "text": [
            "29/29 - 50s - loss: 1.3612e-04 - val_loss: 1.3077e-04 - 50s/epoch - 2s/step\n",
            "Epoch 3/50\n",
            "29/29 - 38s - loss: 1.1104e-04 - val_loss: 1.4146e-04 - 38s/epoch - 1s/step\n",
            "Epoch 4/50\n"
          ]
        },
        {
          "output_type": "stream",
          "name": "stderr",
          "text": [
            "WARNING:absl:Found untraced functions such as lstm_cell_layer_call_fn, lstm_cell_layer_call_and_return_conditional_losses, lstm_cell_1_layer_call_fn, lstm_cell_1_layer_call_and_return_conditional_losses, lstm_cell_layer_call_fn while saving (showing 5 of 10). These functions will not be directly callable after loading.\n"
          ]
        },
        {
          "output_type": "stream",
          "name": "stdout",
          "text": [
            "INFO:tensorflow:Assets written to: lstm_v3_temperatura_e_sensores_callback/assets\n"
          ]
        },
        {
          "output_type": "stream",
          "name": "stderr",
          "text": [
            "INFO:tensorflow:Assets written to: lstm_v3_temperatura_e_sensores_callback/assets\n",
            "WARNING:absl:<keras.layers.recurrent.LSTMCell object at 0x7f7508c0e8d0> has the same name 'LSTMCell' as a built-in Keras object. Consider renaming <class 'keras.layers.recurrent.LSTMCell'> to avoid naming conflicts when loading with `tf.keras.models.load_model`. If renaming is not possible, pass the object in the `custom_objects` parameter of the load function.\n",
            "WARNING:absl:<keras.layers.recurrent.LSTMCell object at 0x7f7508b8f950> has the same name 'LSTMCell' as a built-in Keras object. Consider renaming <class 'keras.layers.recurrent.LSTMCell'> to avoid naming conflicts when loading with `tf.keras.models.load_model`. If renaming is not possible, pass the object in the `custom_objects` parameter of the load function.\n"
          ]
        },
        {
          "output_type": "stream",
          "name": "stdout",
          "text": [
            "29/29 - 50s - loss: 9.8748e-05 - val_loss: 1.1613e-04 - 50s/epoch - 2s/step\n",
            "Epoch 5/50\n"
          ]
        },
        {
          "output_type": "stream",
          "name": "stderr",
          "text": [
            "WARNING:absl:Found untraced functions such as lstm_cell_layer_call_fn, lstm_cell_layer_call_and_return_conditional_losses, lstm_cell_1_layer_call_fn, lstm_cell_1_layer_call_and_return_conditional_losses, lstm_cell_layer_call_fn while saving (showing 5 of 10). These functions will not be directly callable after loading.\n"
          ]
        },
        {
          "output_type": "stream",
          "name": "stdout",
          "text": [
            "INFO:tensorflow:Assets written to: lstm_v3_temperatura_e_sensores_callback/assets\n"
          ]
        },
        {
          "output_type": "stream",
          "name": "stderr",
          "text": [
            "INFO:tensorflow:Assets written to: lstm_v3_temperatura_e_sensores_callback/assets\n",
            "WARNING:absl:<keras.layers.recurrent.LSTMCell object at 0x7f7508c0e8d0> has the same name 'LSTMCell' as a built-in Keras object. Consider renaming <class 'keras.layers.recurrent.LSTMCell'> to avoid naming conflicts when loading with `tf.keras.models.load_model`. If renaming is not possible, pass the object in the `custom_objects` parameter of the load function.\n",
            "WARNING:absl:<keras.layers.recurrent.LSTMCell object at 0x7f7508b8f950> has the same name 'LSTMCell' as a built-in Keras object. Consider renaming <class 'keras.layers.recurrent.LSTMCell'> to avoid naming conflicts when loading with `tf.keras.models.load_model`. If renaming is not possible, pass the object in the `custom_objects` parameter of the load function.\n"
          ]
        },
        {
          "output_type": "stream",
          "name": "stdout",
          "text": [
            "29/29 - 49s - loss: 9.0589e-05 - val_loss: 1.0241e-04 - 49s/epoch - 2s/step\n",
            "Epoch 6/50\n",
            "29/29 - 38s - loss: 8.2609e-05 - val_loss: 1.2857e-04 - 38s/epoch - 1s/step\n",
            "Epoch 7/50\n",
            "29/29 - 38s - loss: 8.0652e-05 - val_loss: 1.4139e-04 - 38s/epoch - 1s/step\n",
            "Epoch 8/50\n",
            "29/29 - 38s - loss: 7.8754e-05 - val_loss: 1.2249e-04 - 38s/epoch - 1s/step\n",
            "Epoch 9/50\n",
            "29/29 - 38s - loss: 7.5713e-05 - val_loss: 1.0286e-04 - 38s/epoch - 1s/step\n",
            "Epoch 10/50\n",
            "29/29 - 38s - loss: 7.4902e-05 - val_loss: 1.2140e-04 - 38s/epoch - 1s/step\n",
            "Epoch 11/50\n"
          ]
        },
        {
          "output_type": "stream",
          "name": "stderr",
          "text": [
            "WARNING:absl:Found untraced functions such as lstm_cell_layer_call_fn, lstm_cell_layer_call_and_return_conditional_losses, lstm_cell_1_layer_call_fn, lstm_cell_1_layer_call_and_return_conditional_losses, lstm_cell_layer_call_fn while saving (showing 5 of 10). These functions will not be directly callable after loading.\n"
          ]
        },
        {
          "output_type": "stream",
          "name": "stdout",
          "text": [
            "INFO:tensorflow:Assets written to: lstm_v3_temperatura_e_sensores_callback/assets\n"
          ]
        },
        {
          "output_type": "stream",
          "name": "stderr",
          "text": [
            "INFO:tensorflow:Assets written to: lstm_v3_temperatura_e_sensores_callback/assets\n",
            "WARNING:absl:<keras.layers.recurrent.LSTMCell object at 0x7f7508c0e8d0> has the same name 'LSTMCell' as a built-in Keras object. Consider renaming <class 'keras.layers.recurrent.LSTMCell'> to avoid naming conflicts when loading with `tf.keras.models.load_model`. If renaming is not possible, pass the object in the `custom_objects` parameter of the load function.\n",
            "WARNING:absl:<keras.layers.recurrent.LSTMCell object at 0x7f7508b8f950> has the same name 'LSTMCell' as a built-in Keras object. Consider renaming <class 'keras.layers.recurrent.LSTMCell'> to avoid naming conflicts when loading with `tf.keras.models.load_model`. If renaming is not possible, pass the object in the `custom_objects` parameter of the load function.\n"
          ]
        },
        {
          "output_type": "stream",
          "name": "stdout",
          "text": [
            "29/29 - 49s - loss: 7.4017e-05 - val_loss: 9.3346e-05 - 49s/epoch - 2s/step\n",
            "Epoch 12/50\n"
          ]
        },
        {
          "output_type": "stream",
          "name": "stderr",
          "text": [
            "WARNING:absl:Found untraced functions such as lstm_cell_layer_call_fn, lstm_cell_layer_call_and_return_conditional_losses, lstm_cell_1_layer_call_fn, lstm_cell_1_layer_call_and_return_conditional_losses, lstm_cell_layer_call_fn while saving (showing 5 of 10). These functions will not be directly callable after loading.\n"
          ]
        },
        {
          "output_type": "stream",
          "name": "stdout",
          "text": [
            "INFO:tensorflow:Assets written to: lstm_v3_temperatura_e_sensores_callback/assets\n"
          ]
        },
        {
          "output_type": "stream",
          "name": "stderr",
          "text": [
            "INFO:tensorflow:Assets written to: lstm_v3_temperatura_e_sensores_callback/assets\n",
            "WARNING:absl:<keras.layers.recurrent.LSTMCell object at 0x7f7508c0e8d0> has the same name 'LSTMCell' as a built-in Keras object. Consider renaming <class 'keras.layers.recurrent.LSTMCell'> to avoid naming conflicts when loading with `tf.keras.models.load_model`. If renaming is not possible, pass the object in the `custom_objects` parameter of the load function.\n",
            "WARNING:absl:<keras.layers.recurrent.LSTMCell object at 0x7f7508b8f950> has the same name 'LSTMCell' as a built-in Keras object. Consider renaming <class 'keras.layers.recurrent.LSTMCell'> to avoid naming conflicts when loading with `tf.keras.models.load_model`. If renaming is not possible, pass the object in the `custom_objects` parameter of the load function.\n"
          ]
        },
        {
          "output_type": "stream",
          "name": "stdout",
          "text": [
            "29/29 - 49s - loss: 6.8555e-05 - val_loss: 9.0220e-05 - 49s/epoch - 2s/step\n",
            "Epoch 13/50\n"
          ]
        },
        {
          "output_type": "stream",
          "name": "stderr",
          "text": [
            "WARNING:absl:Found untraced functions such as lstm_cell_layer_call_fn, lstm_cell_layer_call_and_return_conditional_losses, lstm_cell_1_layer_call_fn, lstm_cell_1_layer_call_and_return_conditional_losses, lstm_cell_layer_call_fn while saving (showing 5 of 10). These functions will not be directly callable after loading.\n"
          ]
        },
        {
          "output_type": "stream",
          "name": "stdout",
          "text": [
            "INFO:tensorflow:Assets written to: lstm_v3_temperatura_e_sensores_callback/assets\n"
          ]
        },
        {
          "output_type": "stream",
          "name": "stderr",
          "text": [
            "INFO:tensorflow:Assets written to: lstm_v3_temperatura_e_sensores_callback/assets\n",
            "WARNING:absl:<keras.layers.recurrent.LSTMCell object at 0x7f7508c0e8d0> has the same name 'LSTMCell' as a built-in Keras object. Consider renaming <class 'keras.layers.recurrent.LSTMCell'> to avoid naming conflicts when loading with `tf.keras.models.load_model`. If renaming is not possible, pass the object in the `custom_objects` parameter of the load function.\n",
            "WARNING:absl:<keras.layers.recurrent.LSTMCell object at 0x7f7508b8f950> has the same name 'LSTMCell' as a built-in Keras object. Consider renaming <class 'keras.layers.recurrent.LSTMCell'> to avoid naming conflicts when loading with `tf.keras.models.load_model`. If renaming is not possible, pass the object in the `custom_objects` parameter of the load function.\n"
          ]
        },
        {
          "output_type": "stream",
          "name": "stdout",
          "text": [
            "29/29 - 49s - loss: 6.6854e-05 - val_loss: 8.6654e-05 - 49s/epoch - 2s/step\n",
            "Epoch 14/50\n",
            "29/29 - 38s - loss: 6.7123e-05 - val_loss: 1.2658e-04 - 38s/epoch - 1s/step\n",
            "Epoch 15/50\n",
            "29/29 - 38s - loss: 7.0027e-05 - val_loss: 1.0600e-04 - 38s/epoch - 1s/step\n",
            "Epoch 16/50\n"
          ]
        },
        {
          "output_type": "stream",
          "name": "stderr",
          "text": [
            "WARNING:absl:Found untraced functions such as lstm_cell_layer_call_fn, lstm_cell_layer_call_and_return_conditional_losses, lstm_cell_1_layer_call_fn, lstm_cell_1_layer_call_and_return_conditional_losses, lstm_cell_layer_call_fn while saving (showing 5 of 10). These functions will not be directly callable after loading.\n"
          ]
        },
        {
          "output_type": "stream",
          "name": "stdout",
          "text": [
            "INFO:tensorflow:Assets written to: lstm_v3_temperatura_e_sensores_callback/assets\n"
          ]
        },
        {
          "output_type": "stream",
          "name": "stderr",
          "text": [
            "INFO:tensorflow:Assets written to: lstm_v3_temperatura_e_sensores_callback/assets\n",
            "WARNING:absl:<keras.layers.recurrent.LSTMCell object at 0x7f7508c0e8d0> has the same name 'LSTMCell' as a built-in Keras object. Consider renaming <class 'keras.layers.recurrent.LSTMCell'> to avoid naming conflicts when loading with `tf.keras.models.load_model`. If renaming is not possible, pass the object in the `custom_objects` parameter of the load function.\n",
            "WARNING:absl:<keras.layers.recurrent.LSTMCell object at 0x7f7508b8f950> has the same name 'LSTMCell' as a built-in Keras object. Consider renaming <class 'keras.layers.recurrent.LSTMCell'> to avoid naming conflicts when loading with `tf.keras.models.load_model`. If renaming is not possible, pass the object in the `custom_objects` parameter of the load function.\n"
          ]
        },
        {
          "output_type": "stream",
          "name": "stdout",
          "text": [
            "29/29 - 49s - loss: 6.6782e-05 - val_loss: 8.4171e-05 - 49s/epoch - 2s/step\n",
            "Epoch 17/50\n",
            "29/29 - 38s - loss: 6.7039e-05 - val_loss: 1.1136e-04 - 38s/epoch - 1s/step\n",
            "Epoch 18/50\n",
            "29/29 - 38s - loss: 6.8274e-05 - val_loss: 8.6581e-05 - 38s/epoch - 1s/step\n",
            "Epoch 19/50\n"
          ]
        },
        {
          "output_type": "stream",
          "name": "stderr",
          "text": [
            "WARNING:absl:Found untraced functions such as lstm_cell_layer_call_fn, lstm_cell_layer_call_and_return_conditional_losses, lstm_cell_1_layer_call_fn, lstm_cell_1_layer_call_and_return_conditional_losses, lstm_cell_layer_call_fn while saving (showing 5 of 10). These functions will not be directly callable after loading.\n"
          ]
        },
        {
          "output_type": "stream",
          "name": "stdout",
          "text": [
            "INFO:tensorflow:Assets written to: lstm_v3_temperatura_e_sensores_callback/assets\n"
          ]
        },
        {
          "output_type": "stream",
          "name": "stderr",
          "text": [
            "INFO:tensorflow:Assets written to: lstm_v3_temperatura_e_sensores_callback/assets\n",
            "WARNING:absl:<keras.layers.recurrent.LSTMCell object at 0x7f7508c0e8d0> has the same name 'LSTMCell' as a built-in Keras object. Consider renaming <class 'keras.layers.recurrent.LSTMCell'> to avoid naming conflicts when loading with `tf.keras.models.load_model`. If renaming is not possible, pass the object in the `custom_objects` parameter of the load function.\n",
            "WARNING:absl:<keras.layers.recurrent.LSTMCell object at 0x7f7508b8f950> has the same name 'LSTMCell' as a built-in Keras object. Consider renaming <class 'keras.layers.recurrent.LSTMCell'> to avoid naming conflicts when loading with `tf.keras.models.load_model`. If renaming is not possible, pass the object in the `custom_objects` parameter of the load function.\n"
          ]
        },
        {
          "output_type": "stream",
          "name": "stdout",
          "text": [
            "29/29 - 49s - loss: 6.7765e-05 - val_loss: 8.3568e-05 - 49s/epoch - 2s/step\n",
            "Epoch 20/50\n",
            "29/29 - 38s - loss: 6.4600e-05 - val_loss: 9.3352e-05 - 38s/epoch - 1s/step\n",
            "Epoch 21/50\n",
            "29/29 - 38s - loss: 6.4160e-05 - val_loss: 8.3784e-05 - 38s/epoch - 1s/step\n",
            "Epoch 22/50\n"
          ]
        },
        {
          "output_type": "stream",
          "name": "stderr",
          "text": [
            "WARNING:absl:Found untraced functions such as lstm_cell_layer_call_fn, lstm_cell_layer_call_and_return_conditional_losses, lstm_cell_1_layer_call_fn, lstm_cell_1_layer_call_and_return_conditional_losses, lstm_cell_layer_call_fn while saving (showing 5 of 10). These functions will not be directly callable after loading.\n"
          ]
        },
        {
          "output_type": "stream",
          "name": "stdout",
          "text": [
            "INFO:tensorflow:Assets written to: lstm_v3_temperatura_e_sensores_callback/assets\n"
          ]
        },
        {
          "output_type": "stream",
          "name": "stderr",
          "text": [
            "INFO:tensorflow:Assets written to: lstm_v3_temperatura_e_sensores_callback/assets\n",
            "WARNING:absl:<keras.layers.recurrent.LSTMCell object at 0x7f7508c0e8d0> has the same name 'LSTMCell' as a built-in Keras object. Consider renaming <class 'keras.layers.recurrent.LSTMCell'> to avoid naming conflicts when loading with `tf.keras.models.load_model`. If renaming is not possible, pass the object in the `custom_objects` parameter of the load function.\n",
            "WARNING:absl:<keras.layers.recurrent.LSTMCell object at 0x7f7508b8f950> has the same name 'LSTMCell' as a built-in Keras object. Consider renaming <class 'keras.layers.recurrent.LSTMCell'> to avoid naming conflicts when loading with `tf.keras.models.load_model`. If renaming is not possible, pass the object in the `custom_objects` parameter of the load function.\n"
          ]
        },
        {
          "output_type": "stream",
          "name": "stdout",
          "text": [
            "29/29 - 49s - loss: 6.2260e-05 - val_loss: 8.1164e-05 - 49s/epoch - 2s/step\n",
            "Epoch 23/50\n",
            "29/29 - 38s - loss: 6.2540e-05 - val_loss: 8.1651e-05 - 38s/epoch - 1s/step\n",
            "Epoch 24/50\n",
            "29/29 - 38s - loss: 6.2544e-05 - val_loss: 8.6728e-05 - 38s/epoch - 1s/step\n",
            "Epoch 25/50\n",
            "29/29 - 38s - loss: 6.1960e-05 - val_loss: 1.0446e-04 - 38s/epoch - 1s/step\n",
            "Epoch 26/50\n",
            "29/29 - 38s - loss: 6.2898e-05 - val_loss: 8.8455e-05 - 38s/epoch - 1s/step\n",
            "Epoch 27/50\n",
            "29/29 - 38s - loss: 6.5500e-05 - val_loss: 9.0296e-05 - 38s/epoch - 1s/step\n",
            "Epoch 28/50\n"
          ]
        },
        {
          "output_type": "stream",
          "name": "stderr",
          "text": [
            "WARNING:absl:Found untraced functions such as lstm_cell_layer_call_fn, lstm_cell_layer_call_and_return_conditional_losses, lstm_cell_1_layer_call_fn, lstm_cell_1_layer_call_and_return_conditional_losses, lstm_cell_layer_call_fn while saving (showing 5 of 10). These functions will not be directly callable after loading.\n"
          ]
        },
        {
          "output_type": "stream",
          "name": "stdout",
          "text": [
            "INFO:tensorflow:Assets written to: lstm_v3_temperatura_e_sensores_callback/assets\n"
          ]
        },
        {
          "output_type": "stream",
          "name": "stderr",
          "text": [
            "INFO:tensorflow:Assets written to: lstm_v3_temperatura_e_sensores_callback/assets\n",
            "WARNING:absl:<keras.layers.recurrent.LSTMCell object at 0x7f7508c0e8d0> has the same name 'LSTMCell' as a built-in Keras object. Consider renaming <class 'keras.layers.recurrent.LSTMCell'> to avoid naming conflicts when loading with `tf.keras.models.load_model`. If renaming is not possible, pass the object in the `custom_objects` parameter of the load function.\n",
            "WARNING:absl:<keras.layers.recurrent.LSTMCell object at 0x7f7508b8f950> has the same name 'LSTMCell' as a built-in Keras object. Consider renaming <class 'keras.layers.recurrent.LSTMCell'> to avoid naming conflicts when loading with `tf.keras.models.load_model`. If renaming is not possible, pass the object in the `custom_objects` parameter of the load function.\n"
          ]
        },
        {
          "output_type": "stream",
          "name": "stdout",
          "text": [
            "29/29 - 49s - loss: 6.0285e-05 - val_loss: 7.9860e-05 - 49s/epoch - 2s/step\n",
            "Epoch 29/50\n",
            "29/29 - 38s - loss: 5.9928e-05 - val_loss: 8.9375e-05 - 38s/epoch - 1s/step\n",
            "Epoch 30/50\n",
            "29/29 - 38s - loss: 5.9975e-05 - val_loss: 8.4141e-05 - 38s/epoch - 1s/step\n",
            "Epoch 31/50\n",
            "29/29 - 38s - loss: 5.9964e-05 - val_loss: 8.3124e-05 - 38s/epoch - 1s/step\n",
            "Epoch 32/50\n",
            "29/29 - 38s - loss: 6.0167e-05 - val_loss: 8.8979e-05 - 38s/epoch - 1s/step\n",
            "Epoch 33/50\n",
            "29/29 - 38s - loss: 5.9807e-05 - val_loss: 1.0048e-04 - 38s/epoch - 1s/step\n",
            "Epoch 34/50\n"
          ]
        },
        {
          "output_type": "stream",
          "name": "stderr",
          "text": [
            "WARNING:absl:Found untraced functions such as lstm_cell_layer_call_fn, lstm_cell_layer_call_and_return_conditional_losses, lstm_cell_1_layer_call_fn, lstm_cell_1_layer_call_and_return_conditional_losses, lstm_cell_layer_call_fn while saving (showing 5 of 10). These functions will not be directly callable after loading.\n"
          ]
        },
        {
          "output_type": "stream",
          "name": "stdout",
          "text": [
            "INFO:tensorflow:Assets written to: lstm_v3_temperatura_e_sensores_callback/assets\n"
          ]
        },
        {
          "output_type": "stream",
          "name": "stderr",
          "text": [
            "INFO:tensorflow:Assets written to: lstm_v3_temperatura_e_sensores_callback/assets\n",
            "WARNING:absl:<keras.layers.recurrent.LSTMCell object at 0x7f7508c0e8d0> has the same name 'LSTMCell' as a built-in Keras object. Consider renaming <class 'keras.layers.recurrent.LSTMCell'> to avoid naming conflicts when loading with `tf.keras.models.load_model`. If renaming is not possible, pass the object in the `custom_objects` parameter of the load function.\n",
            "WARNING:absl:<keras.layers.recurrent.LSTMCell object at 0x7f7508b8f950> has the same name 'LSTMCell' as a built-in Keras object. Consider renaming <class 'keras.layers.recurrent.LSTMCell'> to avoid naming conflicts when loading with `tf.keras.models.load_model`. If renaming is not possible, pass the object in the `custom_objects` parameter of the load function.\n"
          ]
        },
        {
          "output_type": "stream",
          "name": "stdout",
          "text": [
            "29/29 - 49s - loss: 6.0331e-05 - val_loss: 7.9556e-05 - 49s/epoch - 2s/step\n",
            "Epoch 35/50\n"
          ]
        },
        {
          "output_type": "stream",
          "name": "stderr",
          "text": [
            "WARNING:absl:Found untraced functions such as lstm_cell_layer_call_fn, lstm_cell_layer_call_and_return_conditional_losses, lstm_cell_1_layer_call_fn, lstm_cell_1_layer_call_and_return_conditional_losses, lstm_cell_layer_call_fn while saving (showing 5 of 10). These functions will not be directly callable after loading.\n"
          ]
        },
        {
          "output_type": "stream",
          "name": "stdout",
          "text": [
            "INFO:tensorflow:Assets written to: lstm_v3_temperatura_e_sensores_callback/assets\n"
          ]
        },
        {
          "output_type": "stream",
          "name": "stderr",
          "text": [
            "INFO:tensorflow:Assets written to: lstm_v3_temperatura_e_sensores_callback/assets\n",
            "WARNING:absl:<keras.layers.recurrent.LSTMCell object at 0x7f7508c0e8d0> has the same name 'LSTMCell' as a built-in Keras object. Consider renaming <class 'keras.layers.recurrent.LSTMCell'> to avoid naming conflicts when loading with `tf.keras.models.load_model`. If renaming is not possible, pass the object in the `custom_objects` parameter of the load function.\n",
            "WARNING:absl:<keras.layers.recurrent.LSTMCell object at 0x7f7508b8f950> has the same name 'LSTMCell' as a built-in Keras object. Consider renaming <class 'keras.layers.recurrent.LSTMCell'> to avoid naming conflicts when loading with `tf.keras.models.load_model`. If renaming is not possible, pass the object in the `custom_objects` parameter of the load function.\n"
          ]
        },
        {
          "output_type": "stream",
          "name": "stdout",
          "text": [
            "29/29 - 49s - loss: 5.9262e-05 - val_loss: 7.8750e-05 - 49s/epoch - 2s/step\n",
            "Epoch 36/50\n",
            "29/29 - 38s - loss: 6.0409e-05 - val_loss: 8.1811e-05 - 38s/epoch - 1s/step\n",
            "Epoch 37/50\n",
            "29/29 - 38s - loss: 6.0344e-05 - val_loss: 8.6398e-05 - 38s/epoch - 1s/step\n",
            "Epoch 38/50\n"
          ]
        },
        {
          "output_type": "stream",
          "name": "stderr",
          "text": [
            "WARNING:absl:Found untraced functions such as lstm_cell_layer_call_fn, lstm_cell_layer_call_and_return_conditional_losses, lstm_cell_1_layer_call_fn, lstm_cell_1_layer_call_and_return_conditional_losses, lstm_cell_layer_call_fn while saving (showing 5 of 10). These functions will not be directly callable after loading.\n"
          ]
        },
        {
          "output_type": "stream",
          "name": "stdout",
          "text": [
            "INFO:tensorflow:Assets written to: lstm_v3_temperatura_e_sensores_callback/assets\n"
          ]
        },
        {
          "output_type": "stream",
          "name": "stderr",
          "text": [
            "INFO:tensorflow:Assets written to: lstm_v3_temperatura_e_sensores_callback/assets\n",
            "WARNING:absl:<keras.layers.recurrent.LSTMCell object at 0x7f7508c0e8d0> has the same name 'LSTMCell' as a built-in Keras object. Consider renaming <class 'keras.layers.recurrent.LSTMCell'> to avoid naming conflicts when loading with `tf.keras.models.load_model`. If renaming is not possible, pass the object in the `custom_objects` parameter of the load function.\n",
            "WARNING:absl:<keras.layers.recurrent.LSTMCell object at 0x7f7508b8f950> has the same name 'LSTMCell' as a built-in Keras object. Consider renaming <class 'keras.layers.recurrent.LSTMCell'> to avoid naming conflicts when loading with `tf.keras.models.load_model`. If renaming is not possible, pass the object in the `custom_objects` parameter of the load function.\n"
          ]
        },
        {
          "output_type": "stream",
          "name": "stdout",
          "text": [
            "29/29 - 49s - loss: 5.9706e-05 - val_loss: 7.8723e-05 - 49s/epoch - 2s/step\n",
            "Epoch 39/50\n"
          ]
        },
        {
          "output_type": "stream",
          "name": "stderr",
          "text": [
            "WARNING:absl:Found untraced functions such as lstm_cell_layer_call_fn, lstm_cell_layer_call_and_return_conditional_losses, lstm_cell_1_layer_call_fn, lstm_cell_1_layer_call_and_return_conditional_losses, lstm_cell_layer_call_fn while saving (showing 5 of 10). These functions will not be directly callable after loading.\n"
          ]
        },
        {
          "output_type": "stream",
          "name": "stdout",
          "text": [
            "INFO:tensorflow:Assets written to: lstm_v3_temperatura_e_sensores_callback/assets\n"
          ]
        },
        {
          "output_type": "stream",
          "name": "stderr",
          "text": [
            "INFO:tensorflow:Assets written to: lstm_v3_temperatura_e_sensores_callback/assets\n",
            "WARNING:absl:<keras.layers.recurrent.LSTMCell object at 0x7f7508c0e8d0> has the same name 'LSTMCell' as a built-in Keras object. Consider renaming <class 'keras.layers.recurrent.LSTMCell'> to avoid naming conflicts when loading with `tf.keras.models.load_model`. If renaming is not possible, pass the object in the `custom_objects` parameter of the load function.\n",
            "WARNING:absl:<keras.layers.recurrent.LSTMCell object at 0x7f7508b8f950> has the same name 'LSTMCell' as a built-in Keras object. Consider renaming <class 'keras.layers.recurrent.LSTMCell'> to avoid naming conflicts when loading with `tf.keras.models.load_model`. If renaming is not possible, pass the object in the `custom_objects` parameter of the load function.\n"
          ]
        },
        {
          "output_type": "stream",
          "name": "stdout",
          "text": [
            "29/29 - 49s - loss: 5.9278e-05 - val_loss: 7.5652e-05 - 49s/epoch - 2s/step\n",
            "Epoch 40/50\n",
            "29/29 - 38s - loss: 5.8934e-05 - val_loss: 7.9932e-05 - 38s/epoch - 1s/step\n",
            "Epoch 41/50\n",
            "29/29 - 38s - loss: 5.8346e-05 - val_loss: 7.9990e-05 - 38s/epoch - 1s/step\n",
            "Epoch 42/50\n",
            "29/29 - 38s - loss: 5.6994e-05 - val_loss: 8.3834e-05 - 38s/epoch - 1s/step\n",
            "Epoch 43/50\n",
            "29/29 - 38s - loss: 5.8464e-05 - val_loss: 8.0391e-05 - 38s/epoch - 1s/step\n",
            "Epoch 44/50\n",
            "29/29 - 38s - loss: 5.7246e-05 - val_loss: 8.6344e-05 - 38s/epoch - 1s/step\n",
            "Epoch 45/50\n",
            "29/29 - 38s - loss: 5.6368e-05 - val_loss: 7.8856e-05 - 38s/epoch - 1s/step\n",
            "Epoch 46/50\n"
          ]
        },
        {
          "output_type": "stream",
          "name": "stderr",
          "text": [
            "WARNING:absl:Found untraced functions such as lstm_cell_layer_call_fn, lstm_cell_layer_call_and_return_conditional_losses, lstm_cell_1_layer_call_fn, lstm_cell_1_layer_call_and_return_conditional_losses, lstm_cell_layer_call_fn while saving (showing 5 of 10). These functions will not be directly callable after loading.\n"
          ]
        },
        {
          "output_type": "stream",
          "name": "stdout",
          "text": [
            "INFO:tensorflow:Assets written to: lstm_v3_temperatura_e_sensores_callback/assets\n"
          ]
        },
        {
          "output_type": "stream",
          "name": "stderr",
          "text": [
            "INFO:tensorflow:Assets written to: lstm_v3_temperatura_e_sensores_callback/assets\n",
            "WARNING:absl:<keras.layers.recurrent.LSTMCell object at 0x7f7508c0e8d0> has the same name 'LSTMCell' as a built-in Keras object. Consider renaming <class 'keras.layers.recurrent.LSTMCell'> to avoid naming conflicts when loading with `tf.keras.models.load_model`. If renaming is not possible, pass the object in the `custom_objects` parameter of the load function.\n",
            "WARNING:absl:<keras.layers.recurrent.LSTMCell object at 0x7f7508b8f950> has the same name 'LSTMCell' as a built-in Keras object. Consider renaming <class 'keras.layers.recurrent.LSTMCell'> to avoid naming conflicts when loading with `tf.keras.models.load_model`. If renaming is not possible, pass the object in the `custom_objects` parameter of the load function.\n"
          ]
        },
        {
          "output_type": "stream",
          "name": "stdout",
          "text": [
            "29/29 - 48s - loss: 5.7083e-05 - val_loss: 7.5446e-05 - 48s/epoch - 2s/step\n",
            "Epoch 47/50\n",
            "29/29 - 38s - loss: 5.8514e-05 - val_loss: 7.7333e-05 - 38s/epoch - 1s/step\n",
            "Epoch 48/50\n",
            "29/29 - 38s - loss: 5.7368e-05 - val_loss: 8.9829e-05 - 38s/epoch - 1s/step\n",
            "Epoch 49/50\n",
            "29/29 - 38s - loss: 5.6310e-05 - val_loss: 8.6897e-05 - 38s/epoch - 1s/step\n",
            "Epoch 50/50\n",
            "29/29 - 38s - loss: 5.5606e-05 - val_loss: 8.4281e-05 - 38s/epoch - 1s/step\n"
          ]
        }
      ],
      "source": [
        "#lr = 4e-3#0.0003411867089831444\n",
        "\n",
        "INITIAL_LR = 1e-4\n",
        "FINAL_LR = 1e-6\n",
        "N_EPOCHS = 50\n",
        "\n",
        "model_lstm = Sequential([\n",
        "    tf.keras.layers.Input((x_train.shape[1], x_train.shape[2])),\n",
        "    #tf.keras.layers.Reshape((1, x_train.shape[1], x_train.shape[2])),\n",
        "    #tf.keras.layers.Conv1D(64, kernel_size=1, activation='elu'),\n",
        "    #tf.keras.layers.Conv1D(64, kernel_size=1, activation='elu'),\n",
        "    #tf.keras.layers.Dropout(0.25),\n",
        "    #tf.keras.layers.Reshape((x_train.shape[1], 64)),\n",
        "    #Dense(512, activation='elu'),\n",
        "    #Dense(512, activation='elu'),\n",
        "    LSTM(1024, return_sequences=True),\n",
        "    LSTM(1024),\n",
        "    Dense(1)\n",
        "])\n",
        "\n",
        "opt = tf.keras.optimizers.Adam(learning_rate=INITIAL_LR)\n",
        "\n",
        "model_lstm.compile(loss='mse', optimizer=opt)\n",
        "\n",
        "# callback function early stopping\n",
        "#early_stop_callback = EarlyStopping(monitor='val_loss', min_delta=1e-3, patience=10, verbose=1,\n",
        "#                                    mode='auto', restore_best_weights=True)\n",
        "\n",
        "lr_update_callback = LearningRateScheduler(\n",
        "    lambda epoch, lr: INITIAL_LR + (epoch / N_EPOCHS) * (FINAL_LR - INITIAL_LR)\n",
        ")\n",
        "\n",
        "nome_modelo_treinado = \"lstm_v3_temperatura_e_sensores_callback\"\n",
        "save_best_model = ModelCheckpoint(nome_modelo_treinado, monitor=\"val_loss\",\n",
        "                      save_best_only=True, save_weights_only=False)\n",
        "\n",
        "history = model_lstm.fit(\n",
        "    x_train,\n",
        "    y_train,\n",
        "    validation_data=(x_teste_train, y_teste_train),\n",
        "    callbacks=[save_best_model],\n",
        "    shuffle=True,\n",
        "    batch_size=1024, #batch_size,\n",
        "    epochs=N_EPOCHS,\n",
        "    verbose=2)"
      ]
    },
    {
      "cell_type": "code",
      "execution_count": 71,
      "metadata": {
        "id": "LBcvpROOUeEb",
        "colab": {
          "base_uri": "https://localhost:8080/",
          "height": 621
        },
        "outputId": "fd399568-30a4-44df-cd32-7efeaeef2abc"
      },
      "outputs": [
        {
          "output_type": "display_data",
          "data": {
            "image/png": "[encoded data removed]",
            "text/plain": [
              "<Figure size 720x720 with 1 Axes>"
            ]
          },
          "metadata": {
            "needs_background": "light"
          }
        }
      ],
      "source": [
        "plt.figure(figsize=(10, 10))\n",
        "plt.plot(history.history['loss'][0:])\n",
        "plt.plot(history.history['val_loss'][0:])\n",
        "plt.title('model train vs validation loss')\n",
        "#plt.title('model train mse')\n",
        "plt.ylabel('loss')\n",
        "plt.xlabel('epoch')\n",
        "plt.legend(['train', 'validation'], loc='upper right')\n",
        "#plt.legend(['train'], loc='upper right')\n",
        "#plt.savefig('model_train_x_validation_loss.png')\n",
        "plt.show()\n",
        "\n",
        "#plt.plot(history.history['lr'])\n",
        "#plt.title('model train lr')\n",
        "#plt.ylabel('lr')\n",
        "#plt.xlabel('epoch')\n",
        "#plt.legend(['train'], loc='upper right')\n",
        "##plt.savefig('model_train_x_validation_loss.png')\n",
        "#\n",
        "#plt.show()"
      ]
    },
    {
      "cell_type": "code",
      "execution_count": 72,
      "metadata": {
        "id": "57aZ8kKKUeEb",
        "colab": {
          "base_uri": "https://localhost:8080/"
        },
        "outputId": "57326905-ec4e-4516-fc2f-278ef56636fe"
      },
      "outputs": [
        {
          "output_type": "stream",
          "name": "stdout",
          "text": [
            "y_pred.shape=(1968, 1)\n",
            "y_test.shape=(1968, 1)\n"
          ]
        }
      ],
      "source": [
        "#Resultados do Modelo\n",
        "lstm_model = tf.keras.models.load_model(nome_modelo_treinado)\n",
        "#y_pred = model_lstm(x_test) \n",
        "y_pred = lstm_model.predict(x_test)\n",
        "print(f'y_pred.shape={y_pred.shape}')\n",
        "print(f'y_test.shape={y_test.shape}')"
      ]
    },
    {
      "cell_type": "code",
      "execution_count": 73,
      "metadata": {
        "id": "qhT1Dr7vUeEc"
      },
      "outputs": [],
      "source": [
        "y_pred_scaled = y_pred\n",
        "y_test_scaled = y_test"
      ]
    },
    {
      "cell_type": "code",
      "execution_count": 74,
      "metadata": {
        "id": "JKZr2J2uUeEc",
        "colab": {
          "base_uri": "https://localhost:8080/"
        },
        "outputId": "b4883f6d-08f1-469e-a05a-6a38714d1ab8"
      },
      "outputs": [
        {
          "output_type": "stream",
          "name": "stdout",
          "text": [
            "y_pred_scaled.shape=(1968, 1)\n",
            "y_test_scaled.shape=(1968, 1)\n"
          ]
        }
      ],
      "source": [
        "print(f'y_pred_scaled.shape={y_pred_scaled.shape}')\n",
        "print(f'y_test_scaled.shape={y_test_scaled.shape}')"
      ]
    },
    {
      "cell_type": "code",
      "execution_count": 75,
      "metadata": {
        "id": "4FlXDX-dUeEc"
      },
      "outputs": [],
      "source": [
        "#Similar inverse transform\n",
        "y_pred = (y_pred_scaled * df_treino_y_std) + df_treino_y_mean\n",
        "y_test = (y_test * df_treino_y_std) + df_treino_y_mean"
      ]
    },
    {
      "cell_type": "code",
      "execution_count": 76,
      "metadata": {
        "id": "GKslqg-eUeEc",
        "colab": {
          "base_uri": "https://localhost:8080/"
        },
        "outputId": "eb9a9fc7-1cc3-44d5-af4c-2f65ef63cfff"
      },
      "outputs": [
        {
          "output_type": "stream",
          "name": "stdout",
          "text": [
            "R2_Score:  0.6738273774164358\n",
            "RMSE:  11.302873071334199\n"
          ]
        }
      ],
      "source": [
        "print('R2_Score: ', r2_score(y_test, y_pred))\n",
        "print('RMSE: ', mean_squared_error(y_test, y_pred, squared=False))\n",
        "\n",
        "#plt.hist((y_pred-y_test), bins = 5, cumulative = False,density=False)\n",
        "#plt.title('Erro de predição de temperatura - TREINO_VALIDACAO')\n",
        "#plt.xlim((y_pred-y_test).min(),(y_pred-y_test).max())\n",
        "#plt.xlabel('Erro')\n",
        "#plt.ylabel('Quantidade')\n",
        "##plt.savefig('train_validation_erro_predição_temperatura.png')\n",
        "\n",
        "#plt.show()\n",
        "\n",
        "\n",
        "#R2_Score:  0.683364411916178\n",
        "#RMSE:  11.137011996153753"
      ]
    },
    {
      "cell_type": "markdown",
      "metadata": {
        "id": "zGxa05jtUeEc"
      },
      "source": [
        "## Infos treino/validação"
      ]
    },
    {
      "cell_type": "code",
      "execution_count": 77,
      "metadata": {
        "id": "SFbY3CHGUeEc",
        "colab": {
          "base_uri": "https://localhost:8080/",
          "height": 420
        },
        "outputId": "a28066ce-6a2c-46b4-b42d-ce81242e5e92"
      },
      "outputs": [
        {
          "output_type": "display_data",
          "data": {
            "image/png": "[encoded data removed]",
            "text/plain": [
              "<Figure size 1440x360 with 1 Axes>"
            ]
          },
          "metadata": {
            "needs_background": "light"
          }
        },
        {
          "output_type": "stream",
          "name": "stdout",
          "text": [
            "#####Teste dataset error evaluation#####\n",
            "Test Size: 1968  Samples\n",
            "The Percentage of Abs Error Smaller 3 oC is: 23.475609756097562 %\n",
            "The Percentage of Abs Error Smaller 5 oC is: 39.735772357723576 %\n",
            "The Percentage of Abs Error Smaller 7 oC is: 51.98170731707317 %\n",
            "The Percentage of Abs Error Smaller 10 oC is: 67.3780487804878 %\n",
            "The Percentage of Abs Error Smaller 15 oC is: 83.4349593495935 %\n",
            "The Percentage of Abs Error Smaller 20 oC is: 91.869918699187 %\n"
          ]
        }
      ],
      "source": [
        "plt.figure(figsize=(20,5))\n",
        "plt.plot((y_pred), c='r', marker = 'o', markersize=6, linestyle='--', label='Calculated')\n",
        "plt.plot((y_test), c='b', marker = '*', markersize=6, linestyle='--', label='Measured')\n",
        "\n",
        "plt.xlabel('Observation Order')\n",
        "plt.ylabel('Temperature (oC)')\n",
        "plt.xlim(1200,1800)\n",
        "plt.ylim(1400, 1575)\n",
        "plt.title('Versus Order Plot - Test Dataset')\n",
        "plt.legend()\n",
        "\n",
        "plt.show();\n",
        "\n",
        "##### \n",
        "\n",
        "erro_test = y_pred-y_test\n",
        "print('#####Teste dataset error evaluation#####')\n",
        "print('Test Size:', len(erro_test), ' Samples')\n",
        "print('The Percentage of Abs Error Smaller 3 oC is:', 100*(abs(erro_test)<=3).sum()/len(erro_test), '%')\n",
        "print('The Percentage of Abs Error Smaller 5 oC is:', 100*(abs(erro_test)<=5).sum()/len(erro_test),'%')\n",
        "print('The Percentage of Abs Error Smaller 7 oC is:', 100*(abs(erro_test)<=7).sum()/len(erro_test),'%')\n",
        "print('The Percentage of Abs Error Smaller 10 oC is:', 100*(abs(erro_test)<=10).sum()/len(erro_test),'%')\n",
        "print('The Percentage of Abs Error Smaller 15 oC is:', 100*(abs(erro_test)<=15).sum()/len(erro_test),'%')\n",
        "print('The Percentage of Abs Error Smaller 20 oC is:', 100*(abs(erro_test)<=20).sum()/len(erro_test),'%')"
      ]
    },
    {
      "cell_type": "markdown",
      "metadata": {
        "id": "agtWVOuKUeEd"
      },
      "source": [
        "# TESTE"
      ]
    },
    {
      "cell_type": "code",
      "execution_count": 78,
      "metadata": {
        "id": "nPRsxFgrUeEd",
        "colab": {
          "base_uri": "https://localhost:8080/",
          "height": 450
        },
        "outputId": "d72b617e-63cb-4cf9-e105-474e001ddbeb"
      },
      "outputs": [
        {
          "output_type": "error",
          "ename": "FileNotFoundError",
          "evalue": "ignored",
          "traceback": [
            "\u001b[0;31m---------------------------------------------------------------------------\u001b[0m",
            "\u001b[0;31mFileNotFoundError\u001b[0m                         Traceback (most recent call last)",
            "\u001b[0;32m<ipython-input-78-be9abd0cb5b4>\u001b[0m in \u001b[0;36m<module>\u001b[0;34m()\u001b[0m\n\u001b[1;32m      2\u001b[0m \u001b[0mcustom_date_parser\u001b[0m \u001b[0;34m=\u001b[0m \u001b[0;32mlambda\u001b[0m \u001b[0mx\u001b[0m\u001b[0;34m:\u001b[0m \u001b[0mdatetime\u001b[0m\u001b[0;34m.\u001b[0m\u001b[0mstrptime\u001b[0m\u001b[0;34m(\u001b[0m\u001b[0mx\u001b[0m\u001b[0;34m,\u001b[0m \u001b[0;34m\"%Y-%m-%d %H:%M:%S\"\u001b[0m\u001b[0;34m)\u001b[0m\u001b[0;34m\u001b[0m\u001b[0;34m\u001b[0m\u001b[0m\n\u001b[1;32m      3\u001b[0m \u001b[0;34m\u001b[0m\u001b[0m\n\u001b[0;32m----> 4\u001b[0;31m \u001b[0mdf_teste\u001b[0m \u001b[0;34m=\u001b[0m \u001b[0mpd\u001b[0m\u001b[0;34m.\u001b[0m\u001b[0mread_csv\u001b[0m\u001b[0;34m(\u001b[0m\u001b[0;34m'../AMT_BF_T_Model_Valid_RS.csv'\u001b[0m\u001b[0;34m,\u001b[0m\u001b[0mdate_parser\u001b[0m\u001b[0;34m=\u001b[0m\u001b[0mcustom_date_parser\u001b[0m\u001b[0;34m,\u001b[0m\u001b[0mparse_dates\u001b[0m\u001b[0;34m=\u001b[0m\u001b[0;34m[\u001b[0m\u001b[0;34m\"Data\"\u001b[0m\u001b[0;34m]\u001b[0m\u001b[0;34m,\u001b[0m \u001b[0mindex_col\u001b[0m\u001b[0;34m=\u001b[0m\u001b[0;34m\"Data\"\u001b[0m\u001b[0;34m)\u001b[0m\u001b[0;34m\u001b[0m\u001b[0;34m\u001b[0m\u001b[0m\n\u001b[0m\u001b[1;32m      5\u001b[0m \u001b[0mdf_teste\u001b[0m\u001b[0;34m.\u001b[0m\u001b[0mdrop\u001b[0m\u001b[0;34m(\u001b[0m\u001b[0;34m'Unnamed: 0'\u001b[0m\u001b[0;34m,\u001b[0m \u001b[0maxis\u001b[0m\u001b[0;34m=\u001b[0m\u001b[0;36m1\u001b[0m\u001b[0;34m,\u001b[0m \u001b[0minplace\u001b[0m\u001b[0;34m=\u001b[0m\u001b[0;32mTrue\u001b[0m\u001b[0;34m)\u001b[0m\u001b[0;34m\u001b[0m\u001b[0;34m\u001b[0m\u001b[0m\n",
            "\u001b[0;32m/usr/local/lib/python3.7/dist-packages/pandas/io/parsers.py\u001b[0m in \u001b[0;36mread_csv\u001b[0;34m(filepath_or_buffer, sep, delimiter, header, names, index_col, usecols, squeeze, prefix, mangle_dupe_cols, dtype, engine, converters, true_values, false_values, skipinitialspace, skiprows, skipfooter, nrows, na_values, keep_default_na, na_filter, verbose, skip_blank_lines, parse_dates, infer_datetime_format, keep_date_col, date_parser, dayfirst, cache_dates, iterator, chunksize, compression, thousands, decimal, lineterminator, quotechar, quoting, doublequote, escapechar, comment, encoding, dialect, error_bad_lines, warn_bad_lines, delim_whitespace, low_memory, memory_map, float_precision)\u001b[0m\n\u001b[1;32m    686\u001b[0m     )\n\u001b[1;32m    687\u001b[0m \u001b[0;34m\u001b[0m\u001b[0m\n\u001b[0;32m--> 688\u001b[0;31m     \u001b[0;32mreturn\u001b[0m \u001b[0m_read\u001b[0m\u001b[0;34m(\u001b[0m\u001b[0mfilepath_or_buffer\u001b[0m\u001b[0;34m,\u001b[0m \u001b[0mkwds\u001b[0m\u001b[0;34m)\u001b[0m\u001b[0;34m\u001b[0m\u001b[0;34m\u001b[0m\u001b[0m\n\u001b[0m\u001b[1;32m    689\u001b[0m \u001b[0;34m\u001b[0m\u001b[0m\n\u001b[1;32m    690\u001b[0m \u001b[0;34m\u001b[0m\u001b[0m\n",
            "\u001b[0;32m/usr/local/lib/python3.7/dist-packages/pandas/io/parsers.py\u001b[0m in \u001b[0;36m_read\u001b[0;34m(filepath_or_buffer, kwds)\u001b[0m\n\u001b[1;32m    452\u001b[0m \u001b[0;34m\u001b[0m\u001b[0m\n\u001b[1;32m    453\u001b[0m     \u001b[0;31m# Create the parser.\u001b[0m\u001b[0;34m\u001b[0m\u001b[0;34m\u001b[0m\u001b[0;34m\u001b[0m\u001b[0m\n\u001b[0;32m--> 454\u001b[0;31m     \u001b[0mparser\u001b[0m \u001b[0;34m=\u001b[0m \u001b[0mTextFileReader\u001b[0m\u001b[0;34m(\u001b[0m\u001b[0mfp_or_buf\u001b[0m\u001b[0;34m,\u001b[0m \u001b[0;34m**\u001b[0m\u001b[0mkwds\u001b[0m\u001b[0;34m)\u001b[0m\u001b[0;34m\u001b[0m\u001b[0;34m\u001b[0m\u001b[0m\n\u001b[0m\u001b[1;32m    455\u001b[0m \u001b[0;34m\u001b[0m\u001b[0m\n\u001b[1;32m    456\u001b[0m     \u001b[0;32mif\u001b[0m \u001b[0mchunksize\u001b[0m \u001b[0;32mor\u001b[0m \u001b[0miterator\u001b[0m\u001b[0;34m:\u001b[0m\u001b[0;34m\u001b[0m\u001b[0;34m\u001b[0m\u001b[0m\n",
            "\u001b[0;32m/usr/local/lib/python3.7/dist-packages/pandas/io/parsers.py\u001b[0m in \u001b[0;36m__init__\u001b[0;34m(self, f, engine, **kwds)\u001b[0m\n\u001b[1;32m    946\u001b[0m             \u001b[0mself\u001b[0m\u001b[0;34m.\u001b[0m\u001b[0moptions\u001b[0m\u001b[0;34m[\u001b[0m\u001b[0;34m\"has_index_names\"\u001b[0m\u001b[0;34m]\u001b[0m \u001b[0;34m=\u001b[0m \u001b[0mkwds\u001b[0m\u001b[0;34m[\u001b[0m\u001b[0;34m\"has_index_names\"\u001b[0m\u001b[0;34m]\u001b[0m\u001b[0;34m\u001b[0m\u001b[0;34m\u001b[0m\u001b[0m\n\u001b[1;32m    947\u001b[0m \u001b[0;34m\u001b[0m\u001b[0m\n\u001b[0;32m--> 948\u001b[0;31m         \u001b[0mself\u001b[0m\u001b[0;34m.\u001b[0m\u001b[0m_make_engine\u001b[0m\u001b[0;34m(\u001b[0m\u001b[0mself\u001b[0m\u001b[0;34m.\u001b[0m\u001b[0mengine\u001b[0m\u001b[0;34m)\u001b[0m\u001b[0;34m\u001b[0m\u001b[0;34m\u001b[0m\u001b[0m\n\u001b[0m\u001b[1;32m    949\u001b[0m \u001b[0;34m\u001b[0m\u001b[0m\n\u001b[1;32m    950\u001b[0m     \u001b[0;32mdef\u001b[0m \u001b[0mclose\u001b[0m\u001b[0;34m(\u001b[0m\u001b[0mself\u001b[0m\u001b[0;34m)\u001b[0m\u001b[0;34m:\u001b[0m\u001b[0;34m\u001b[0m\u001b[0;34m\u001b[0m\u001b[0m\n",
            "\u001b[0;32m/usr/local/lib/python3.7/dist-packages/pandas/io/parsers.py\u001b[0m in \u001b[0;36m_make_engine\u001b[0;34m(self, engine)\u001b[0m\n\u001b[1;32m   1178\u001b[0m     \u001b[0;32mdef\u001b[0m \u001b[0m_make_engine\u001b[0m\u001b[0;34m(\u001b[0m\u001b[0mself\u001b[0m\u001b[0;34m,\u001b[0m \u001b[0mengine\u001b[0m\u001b[0;34m=\u001b[0m\u001b[0;34m\"c\"\u001b[0m\u001b[0;34m)\u001b[0m\u001b[0;34m:\u001b[0m\u001b[0;34m\u001b[0m\u001b[0;34m\u001b[0m\u001b[0m\n\u001b[1;32m   1179\u001b[0m         \u001b[0;32mif\u001b[0m \u001b[0mengine\u001b[0m \u001b[0;34m==\u001b[0m \u001b[0;34m\"c\"\u001b[0m\u001b[0;34m:\u001b[0m\u001b[0;34m\u001b[0m\u001b[0;34m\u001b[0m\u001b[0m\n\u001b[0;32m-> 1180\u001b[0;31m             \u001b[0mself\u001b[0m\u001b[0;34m.\u001b[0m\u001b[0m_engine\u001b[0m \u001b[0;34m=\u001b[0m \u001b[0mCParserWrapper\u001b[0m\u001b[0;34m(\u001b[0m\u001b[0mself\u001b[0m\u001b[0;34m.\u001b[0m\u001b[0mf\u001b[0m\u001b[0;34m,\u001b[0m \u001b[0;34m**\u001b[0m\u001b[0mself\u001b[0m\u001b[0;34m.\u001b[0m\u001b[0moptions\u001b[0m\u001b[0;34m)\u001b[0m\u001b[0;34m\u001b[0m\u001b[0;34m\u001b[0m\u001b[0m\n\u001b[0m\u001b[1;32m   1181\u001b[0m         \u001b[0;32melse\u001b[0m\u001b[0;34m:\u001b[0m\u001b[0;34m\u001b[0m\u001b[0;34m\u001b[0m\u001b[0m\n\u001b[1;32m   1182\u001b[0m             \u001b[0;32mif\u001b[0m \u001b[0mengine\u001b[0m \u001b[0;34m==\u001b[0m \u001b[0;34m\"python\"\u001b[0m\u001b[0;34m:\u001b[0m\u001b[0;34m\u001b[0m\u001b[0;34m\u001b[0m\u001b[0m\n",
            "\u001b[0;32m/usr/local/lib/python3.7/dist-packages/pandas/io/parsers.py\u001b[0m in \u001b[0;36m__init__\u001b[0;34m(self, src, **kwds)\u001b[0m\n\u001b[1;32m   2008\u001b[0m         \u001b[0mkwds\u001b[0m\u001b[0;34m[\u001b[0m\u001b[0;34m\"usecols\"\u001b[0m\u001b[0;34m]\u001b[0m \u001b[0;34m=\u001b[0m \u001b[0mself\u001b[0m\u001b[0;34m.\u001b[0m\u001b[0musecols\u001b[0m\u001b[0;34m\u001b[0m\u001b[0;34m\u001b[0m\u001b[0m\n\u001b[1;32m   2009\u001b[0m \u001b[0;34m\u001b[0m\u001b[0m\n\u001b[0;32m-> 2010\u001b[0;31m         \u001b[0mself\u001b[0m\u001b[0;34m.\u001b[0m\u001b[0m_reader\u001b[0m \u001b[0;34m=\u001b[0m \u001b[0mparsers\u001b[0m\u001b[0;34m.\u001b[0m\u001b[0mTextReader\u001b[0m\u001b[0;34m(\u001b[0m\u001b[0msrc\u001b[0m\u001b[0;34m,\u001b[0m \u001b[0;34m**\u001b[0m\u001b[0mkwds\u001b[0m\u001b[0;34m)\u001b[0m\u001b[0;34m\u001b[0m\u001b[0;34m\u001b[0m\u001b[0m\n\u001b[0m\u001b[1;32m   2011\u001b[0m         \u001b[0mself\u001b[0m\u001b[0;34m.\u001b[0m\u001b[0munnamed_cols\u001b[0m \u001b[0;34m=\u001b[0m \u001b[0mself\u001b[0m\u001b[0;34m.\u001b[0m\u001b[0m_reader\u001b[0m\u001b[0;34m.\u001b[0m\u001b[0munnamed_cols\u001b[0m\u001b[0;34m\u001b[0m\u001b[0;34m\u001b[0m\u001b[0m\n\u001b[1;32m   2012\u001b[0m \u001b[0;34m\u001b[0m\u001b[0m\n",
            "\u001b[0;32mpandas/_libs/parsers.pyx\u001b[0m in \u001b[0;36mpandas._libs.parsers.TextReader.__cinit__\u001b[0;34m()\u001b[0m\n",
            "\u001b[0;32mpandas/_libs/parsers.pyx\u001b[0m in \u001b[0;36mpandas._libs.parsers.TextReader._setup_parser_source\u001b[0;34m()\u001b[0m\n",
            "\u001b[0;31mFileNotFoundError\u001b[0m: [Errno 2] No such file or directory: '../AMT_BF_T_Model_Valid_RS.csv'"
          ]
        }
      ],
      "source": [
        "from datetime import datetime\n",
        "custom_date_parser = lambda x: datetime.strptime(x, \"%Y-%m-%d %H:%M:%S\")\n",
        "\n",
        "df_teste = pd.read_csv('../AMT_BF_T_Model_Valid_RS.csv',date_parser=custom_date_parser,parse_dates=[\"Data\"], index_col=\"Data\")\n",
        "df_teste.drop('Unnamed: 0', axis=1, inplace=True)"
      ]
    },
    {
      "cell_type": "code",
      "execution_count": null,
      "metadata": {
        "id": "ofKBgoVgUeEd"
      },
      "outputs": [],
      "source": [
        "df_teste = df_teste[model_columns]"
      ]
    },
    {
      "cell_type": "code",
      "execution_count": null,
      "metadata": {
        "id": "IxcPURRHUeEd"
      },
      "outputs": [],
      "source": [
        "df_teste[\"TEMPERATURA_ANTERIOR\"] = df_teste['TEMPERATURA'].shift(1)\n",
        "\n",
        "#Movimentação da coluna temperatura para ela ser a última coluna do dataset\n",
        "df_teste.rename(columns={\"TEMPERATURA\": \"TEMPERATURA_TO_REMOVE\"},inplace=True)\n",
        "df_teste['TEMPERATURA'] = df_teste['TEMPERATURA_TO_REMOVE']\n",
        "df_teste.drop('TEMPERATURA_TO_REMOVE', axis=1, inplace=True)\n",
        "\n",
        "df_teste.dropna(inplace=True)"
      ]
    },
    {
      "cell_type": "code",
      "execution_count": null,
      "metadata": {
        "id": "Obf6atZ_UeEd"
      },
      "outputs": [],
      "source": [
        "df_teste.shape"
      ]
    },
    {
      "cell_type": "markdown",
      "metadata": {
        "id": "Y9_lStboUeEd"
      },
      "source": [
        "# Separa em x / y"
      ]
    },
    {
      "cell_type": "code",
      "execution_count": null,
      "metadata": {
        "id": "DL-2kjp6UeEd"
      },
      "outputs": [],
      "source": [
        "df_teste_x = df_teste.drop('TEMPERATURA', axis=1).to_numpy()\n",
        "df_teste_y = df_teste['TEMPERATURA'].to_numpy()"
      ]
    },
    {
      "cell_type": "code",
      "execution_count": null,
      "metadata": {
        "id": "sdEOfc9nUeEe"
      },
      "outputs": [],
      "source": [
        "print(f'df_teste_x.shape={df_teste_x.shape}')\n",
        "print(f'df_teste_y.shape={df_teste_x.shape}')"
      ]
    },
    {
      "cell_type": "markdown",
      "metadata": {
        "id": "kpuIJXAjUeEe"
      },
      "source": [
        "## Aplica scaler treinado"
      ]
    },
    {
      "cell_type": "code",
      "execution_count": null,
      "metadata": {
        "id": "ZPaftB2eUeEe"
      },
      "outputs": [],
      "source": [
        "#Similar transform\n",
        "df_teste_x_scaled = (df_teste_x - df_treino_x_mean) / df_treino_x_std\n",
        "df_teste_y_scaled = (df_teste_y - df_treino_y_mean) / df_treino_y_std"
      ]
    },
    {
      "cell_type": "code",
      "execution_count": null,
      "metadata": {
        "id": "A5vYyweXUeEe"
      },
      "outputs": [],
      "source": [
        "teste_numpy_in, teste_numpy_out = to_sequences(SEQUENCE_SIZE, df_teste_x_scaled, df_teste_y_scaled)"
      ]
    },
    {
      "cell_type": "code",
      "execution_count": null,
      "metadata": {
        "id": "VI5CUFyuUeEe"
      },
      "outputs": [],
      "source": [
        "print(f\"teste_numpy_in.shape {teste_numpy_in.shape}\")\n",
        "print(f\"teste_numpy_out.shape {teste_numpy_out.shape}\")\n",
        "\n",
        "x_valid = teste_numpy_in.reshape(teste_numpy_in.shape[0], teste_numpy_in.shape[1], teste_numpy_in.shape[2])\n",
        "y_valid = teste_numpy_out\n",
        "\n",
        "print(f\"x_valid.shape {x_valid.shape}\")\n",
        "print(f\"y_valid.shape {y_valid.shape}\")\n"
      ]
    },
    {
      "cell_type": "code",
      "execution_count": null,
      "metadata": {
        "id": "gTkO9p8xUeEe"
      },
      "outputs": [],
      "source": [
        "#Carrega modelo treinado\n",
        "lstm_model_loaded = tf.keras.models.load_model(nome_modelo_treinado)"
      ]
    },
    {
      "cell_type": "code",
      "execution_count": null,
      "metadata": {
        "id": "wSPGGxFrUeEf"
      },
      "outputs": [],
      "source": [
        "#Resultados do Modelo\n",
        "y_pred_valid = lstm_model_loaded.predict(x_valid)\n",
        "\n",
        "y_pred_valid_scaled = y_pred_valid\n",
        "\n",
        "\n",
        "#Similar inverse transform\n",
        "y_pred_valid = (y_pred_valid_scaled * df_treino_y_std) + df_treino_y_mean\n",
        "y_valid = (y_valid * df_treino_y_std) + df_treino_y_mean"
      ]
    },
    {
      "cell_type": "code",
      "execution_count": null,
      "metadata": {
        "id": "zzMesRMTUeEf"
      },
      "outputs": [],
      "source": [
        "print('R2_Score: ', r2_score(y_valid, y_pred_valid))\n",
        "print('RMSE: ', mean_squared_error(y_valid, y_pred_valid, squared=False))"
      ]
    },
    {
      "cell_type": "markdown",
      "metadata": {
        "id": "-O-whjS2UeEf"
      },
      "source": [
        "## Infos Teste"
      ]
    },
    {
      "cell_type": "code",
      "execution_count": null,
      "metadata": {
        "id": "D0Gk3MdIUeEf"
      },
      "outputs": [],
      "source": [
        "plt.show();\n",
        "\n",
        "plt.figure(figsize=(20,5))\n",
        "plt.plot((y_pred_valid), c='r', marker = 'o', markersize=6, linestyle='--', label='Calculated')\n",
        "plt.plot((y_valid), c='b', marker = '*', markersize=6, linestyle='--', label='Measured')\n",
        "\n",
        "plt.xlabel('Observation Order')\n",
        "plt.ylabel('Temperature (oC)')\n",
        "plt.xlim(1000,1200)\n",
        "plt.ylim(1400, 1575)\n",
        "plt.title('Versus Order Plot - Test Dataset')\n",
        "plt.legend()\n",
        "\n",
        "\n",
        "erro_valid = y_pred_valid-y_valid\n",
        "print('#####Teste dataset error evaluation#####')\n",
        "print('Test Size:', len(erro_valid), ' Samples')\n",
        "print('The Percentage of Abs Error Smaller 3 oC is:', 100*(abs(erro_valid)<=3).sum()/len(erro_valid), '%')\n",
        "print('The Percentage of Abs Error Smaller 5 oC is:', 100*(abs(erro_valid)<=5).sum()/len(erro_valid),'%')\n",
        "print('The Percentage of Abs Error Smaller 7 oC is:', 100*(abs(erro_valid)<=7).sum()/len(erro_valid),'%')\n",
        "print('The Percentage of Abs Error Smaller 10 oC is:', 100*(abs(erro_valid)<=10).sum()/len(erro_valid),'%')\n",
        "print('The Percentage of Abs Error Smaller 15 oC is:', 100*(abs(erro_valid)<=15).sum()/len(erro_valid),'%')\n",
        "print('The Percentage of Abs Error Smaller 20 oC is:', 100*(abs(erro_valid)<=20).sum()/len(erro_valid),'%')"
      ]
    },
    {
      "cell_type": "code",
      "execution_count": null,
      "metadata": {
        "id": "-oX3wP9-UeEf"
      },
      "outputs": [],
      "source": [
        ""
      ]
    }
  ],
  "metadata": {
    "interpreter": {
      "hash": "916dbcbb3f70747c44a77c7bcd40155683ae19c65e1c03b4aa3499c5328201f1"
    },
    "kernelspec": {
      "display_name": "Python 3",
      "language": "python",
      "name": "python3"
    },
    "language_info": {
      "codemirror_mode": {
        "name": "ipython",
        "version": 3
      },
      "file_extension": ".py",
      "mimetype": "text/x-python",
      "name": "python",
      "nbconvert_exporter": "python",
      "pygments_lexer": "ipython3",
      "version": "3.8.10"
    },
    "colab": {
      "name": "lstm_v3_temperatura_e_sensores.ipynb",
      "provenance": [],
      "collapsed_sections": [
        "kpuIJXAjUeEe",
        "-O-whjS2UeEf"
      ],
      "include_colab_link": true
    },
    "accelerator": "GPU"
  },
  "nbformat": 4,
  "nbformat_minor": 0
}