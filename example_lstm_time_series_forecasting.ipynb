{
  "nbformat": 4,
  "nbformat_minor": 0,
  "metadata": {
    "colab": {
      "name": "example-lstm-time-series-forecasting.ipynb",
      "provenance": [],
      "authorship_tag": "ABX9TyPyOfoniL0YzUcLtlczNycO",
      "include_colab_link": true
    },
    "kernelspec": {
      "name": "python3",
      "display_name": "Python 3"
    },
    "language_info": {
      "name": "python"
    },
    "accelerator": "GPU"
  },
  "cells": [
    {
      "cell_type": "markdown",
      "metadata": {
        "id": "view-in-github",
        "colab_type": "text"
      },
      "source": [
        "<a href=\"https://colab.research.google.com/github/filipemtz/neuralnets/blob/main/example_lstm_time_series_forecasting.ipynb\" target=\"_parent\"><img src=\"https://colab.research.google.com/assets/colab-badge.svg\" alt=\"Open In Colab\"/></a>"
      ]
    },
    {
      "cell_type": "code",
      "metadata": {
        "id": "k5rOf745M7-5"
      },
      "source": [
        "import numpy as np\n",
        "import matplotlib.pyplot as plt\n",
        "from tensorflow import keras\n",
        "import tensorflow as tf\n"
      ],
      "execution_count": 1,
      "outputs": []
    },
    {
      "cell_type": "code",
      "metadata": {
        "colab": {
          "base_uri": "https://localhost:8080/",
          "height": 282
        },
        "id": "rnmezVYTM9z5",
        "outputId": "4bc8bf54-f384-4269-a6b9-8052d7d01c0c"
      },
      "source": [
        "gaussian_data = np.random.normal(size=32768)\n",
        "random_walk_data = np.cumsum(gaussian_data) / 10.0\n",
        "\n",
        "plt.plot(random_walk_data)\n"
      ],
      "execution_count": 2,
      "outputs": [
        {
          "output_type": "execute_result",
          "data": {
            "text/plain": [
              "[<matplotlib.lines.Line2D at 0x7f483d512710>]"
            ]
          },
          "metadata": {},
          "execution_count": 2
        },
        {
          "output_type": "display_data",
          "data": {
            "image/png": "[encoded data removed]",
            "text/plain": [
              "<Figure size 432x288 with 1 Axes>"
            ]
          },
          "metadata": {
            "needs_background": "light"
          }
        }
      ]
    },
    {
      "cell_type": "code",
      "metadata": {
        "colab": {
          "base_uri": "https://localhost:8080/"
        },
        "id": "t_sBkbn4NFj_",
        "outputId": "2f157b8f-c111-4c3f-bfa0-56c5fa5fcc74"
      },
      "source": [
        "WINDOW_SIZE = 32\n",
        "\n",
        "\n",
        "def slice_dataset(data, window_size=32):\n",
        "    inputs = []\n",
        "    outputs = []\n",
        "\n",
        "    for idx in range(window_size, len(data)):\n",
        "        inputs.append(data[(idx - window_size): idx])\n",
        "        outputs.append(data[idx])\n",
        "\n",
        "    inputs = np.array(inputs)\n",
        "    outputs = np.array(outputs)\n",
        "\n",
        "    return inputs, outputs\n",
        "\n",
        "\n",
        "inputs, outputs = slice_dataset(random_walk_data, WINDOW_SIZE)\n",
        "\n",
        "print(f\"inputs.shape: {inputs.shape} outputs.shape: {outputs.shape}\")\n"
      ],
      "execution_count": 3,
      "outputs": [
        {
          "output_type": "stream",
          "name": "stdout",
          "text": [
            "inputs.shape: (32736, 32) outputs.shape: (32736,)\n"
          ]
        }
      ]
    },
    {
      "cell_type": "code",
      "metadata": {
        "colab": {
          "base_uri": "https://localhost:8080/"
        },
        "id": "sDDFD4epNSqr",
        "outputId": "7003aa26-7414-4a97-b0cf-ed1e6cfe5725"
      },
      "source": [
        "BATCH_SIZE = 64\n",
        "\n",
        "\n",
        "def create_tf_dataset(inputs, outputs):\n",
        "    # The LSTM network expects the input data (X) to be provided with a specific\n",
        "    # array structure in the form of: [samples, time steps, features].\n",
        "    inputs = np.expand_dims(inputs, axis=2)\n",
        "    outputs = np.expand_dims(outputs, axis=1)\n",
        "\n",
        "    return tf.data.Dataset.from_tensor_slices((inputs, outputs))\n",
        "\n",
        "\n",
        "dataset = create_tf_dataset(inputs, outputs)\n",
        "dataset = dataset.shuffle(buffer_size=256).batch(BATCH_SIZE)\n",
        "\n",
        "batch = next(iter(dataset.take(1)))\n",
        "inputs, targets = batch\n",
        "print(\"Input shape:\", inputs.numpy().shape)\n",
        "print(\"Target shape:\", targets.numpy().shape)\n"
      ],
      "execution_count": 4,
      "outputs": [
        {
          "output_type": "stream",
          "name": "stdout",
          "text": [
            "Input shape: (64, 32, 1)\n",
            "Target shape: (64, 1)\n"
          ]
        }
      ]
    },
    {
      "cell_type": "code",
      "metadata": {
        "colab": {
          "base_uri": "https://localhost:8080/"
        },
        "id": "oeBNRaynNfv2",
        "outputId": "ce1cd820-571e-4b31-856e-5d05e294731a"
      },
      "source": [
        "LR = 1e-3\n",
        "N_EPOCHS = 20\n",
        "\n",
        "model = keras.models.Sequential([\n",
        "    keras.layers.LSTM(32, input_shape=(WINDOW_SIZE, 1)),\n",
        "    keras.layers.Dense(1)\n",
        "])\n",
        "\n",
        "model.compile(optimizer=keras.optimizers.Adam(\n",
        "    learning_rate=LR), loss=\"mse\")\n",
        "model.summary()\n",
        "\n",
        "history = model.fit(\n",
        "    dataset,\n",
        "    epochs=N_EPOCHS,\n",
        ")\n",
        "\n",
        "plt.title(\"training mse\")\n",
        "plt.plot(history.history[\"loss\"])\n"
      ],
      "execution_count": null,
      "outputs": [
        {
          "output_type": "stream",
          "name": "stdout",
          "text": [
            "Model: \"sequential\"\n",
            "_________________________________________________________________\n",
            " Layer (type)                Output Shape              Param #   \n",
            "=================================================================\n",
            " lstm (LSTM)                 (None, 32)                4352      \n",
            "                                                                 \n",
            " dense (Dense)               (None, 1)                 33        \n",
            "                                                                 \n",
            "=================================================================\n",
            "Total params: 4,385\n",
            "Trainable params: 4,385\n",
            "Non-trainable params: 0\n",
            "_________________________________________________________________\n",
            "Epoch 1/20\n",
            "512/512 [==============================] - 10s 8ms/step - loss: 10.9369\n",
            "Epoch 2/20\n",
            "512/512 [==============================] - 4s 8ms/step - loss: 2.6335\n",
            "Epoch 3/20\n",
            "512/512 [==============================] - 4s 8ms/step - loss: 0.9754\n",
            "Epoch 4/20\n",
            "512/512 [==============================] - 4s 8ms/step - loss: 0.3617\n",
            "Epoch 5/20\n",
            "157/512 [========>.....................] - ETA: 3s - loss: 0.0445"
          ]
        }
      ]
    },
    {
      "cell_type": "code",
      "metadata": {
        "id": "ZlpzaXmaNux-"
      },
      "source": [
        "def predict_all(inputs, model, window_size):\n",
        "    outputs = [0] * window_size\n",
        "    predictions = model(np.expand_dims(inputs, axis=2))\n",
        "    predictions = np.squeeze(predictions)\n",
        "    outputs = outputs + list(predictions)\n",
        "    return outputs\n",
        "\n",
        "\n",
        "predictions = predict_all(inputs, model, WINDOW_SIZE)\n",
        "plt.plot(random_walk_data)\n",
        "plt.plot(predictions)\n",
        "plt.legend([\"groundtruth\", \"predictions\"])\n"
      ],
      "execution_count": null,
      "outputs": []
    }
  ]
}